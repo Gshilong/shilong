{
 "cells": [
  {
   "cell_type": "code",
   "execution_count": 1,
   "metadata": {},
   "outputs": [],
   "source": [
    "from quspin.operators import hamiltonian,exp_op,quantum_operator # Hamiltonians and operators\n",
    "from quspin.basis import spinless_fermion_basis_1d, spin_basis_1d # Hilbert space fermion basis\n",
    "from quspin.tools.block_tools import block_diag_hamiltonian # block diagonalisation\n",
    "from quspin.tools.measurements import ED_state_vs_time\n",
    "from quspin.tools.evolution import expm_multiply_parallel\n",
    "from scipy.optimize import minimize_scalar,minimize,basinhopping, shgo, differential_evolution\n",
    "import numpy as np # generic math functions\n",
    "import numba as nb\n",
    "import matplotlib.pyplot as plt # plotting library\n",
    "import copy\n",
    "import matplotlib.pyplot as plt\n",
    "import scipy\n",
    "from scipy import sparse, interpolate\n",
    "import sys,os"
   ]
  },
  {
   "cell_type": "code",
   "execution_count": 2,
   "metadata": {},
   "outputs": [],
   "source": [
    "os.environ['KMP_DUPLICATE_LIB_OK']='True' # uncomment this line if omp error occurs on OSX for python 3\n",
    "os.environ['OMP_NUM_THREADS']='16' # set number of OpenMP threads to run in parallel\n",
    "os.environ['MKL_NUM_THREADS']='16' # set number of MKL threads to run in parallel\n",
    "dtype_real = np.float64\n",
    "dtype_cmplx = np.result_type(dtype_real,np.complex64)"
   ]
  },
  {
   "cell_type": "code",
   "execution_count": 3,
   "metadata": {},
   "outputs": [],
   "source": [
    "#set parameters\n",
    "L=10\n",
    "m=0.6\n",
    "g=0.8\n",
    "a=1\n",
    "hop=1\n",
    "layers=int(L/2)\n",
    "r=0\n",
    "charge=int(L/2)-1\n",
    "length=int(np.math.factorial(L)/(np.math.factorial(L-charge)*np.math.factorial(charge)))"
   ]
  },
  {
   "cell_type": "code",
   "execution_count": 4,
   "metadata": {},
   "outputs": [],
   "source": [
    "#converge a int to qubit string\n",
    "def bins(n,L):\n",
    "    bins=[str(int(j)) for j in bin(n)[2:]]\n",
    "    bins=''.join(bins)\n",
    "    l=L-len(bins)\n",
    "    zbins=[str(0) for x in range (0,l)]\n",
    "    zbins=''.join(zbins)\n",
    "    zbins=''.join([zbins,bins])\n",
    "    return zbins\n",
    "\n",
    "#counting how much \"1\" on the even sublattice and how much \"0\" on the odd sublattice\n",
    "def counting(state):\n",
    "    odd=0\n",
    "    even=0\n",
    "    num_ones=0\n",
    "    positionF=[]\n",
    "    positionAF=[]\n",
    "    num=list(state)\n",
    "    for i in range(0,len(num),2):\n",
    "        if num[i]==\"0\":\n",
    "            positionF.append(int(i/2))\n",
    "            even=even+1\n",
    "    for i in range(1,len(num)+1,2):\n",
    "        if num[i]==\"1\":\n",
    "            positionAF.append(int((i-1)/2))\n",
    "            odd=odd+1\n",
    "    for i in range(len(num)):\n",
    "        if num[i]==\"1\":\n",
    "            num_ones=num_ones+1\n",
    "    return even,odd,positionF,positionAF,num_ones"
   ]
  },
  {
   "cell_type": "code",
   "execution_count": 5,
   "metadata": {},
   "outputs": [],
   "source": [
    "#boundary term of ham\n",
    "def boundary(sym_i,sym_j,i,j):\n",
    "    string=[]\n",
    "    pos=[]\n",
    "    string.append(sym_i)\n",
    "    for k in range(i+1,j):\n",
    "        string.append('z')\n",
    "    string.append(sym_j)\n",
    "    string=''.join(string)\n",
    "    for k in range(i,j+1):\n",
    "        pos.append(k)\n",
    "    return string,pos"
   ]
  },
  {
   "cell_type": "code",
   "execution_count": 6,
   "metadata": {},
   "outputs": [
    {
     "name": "stdout",
     "output_type": "stream",
     "text": [
      "Hermiticity check passed!\n"
     ]
    },
    {
     "name": "stderr",
     "output_type": "stream",
     "text": [
      "C:\\Users\\shilong\\AppData\\Local\\Temp\\ipykernel_45488\\1621243830.py:25: UserWarning: Test for symmetries not implemented for <class 'quspin.basis.basis_1d.spin.spin_basis_1d'>, to turn off this warning set check_symm=False in hamiltonian\n",
      "  hxyodd=hamiltonian(static_hxyodd,dynamic,basis=basis1,dtype=np.complex128)\n"
     ]
    },
    {
     "name": "stdout",
     "output_type": "stream",
     "text": [
      "Hermiticity check passed!\n",
      "Hermiticity check passed!\n"
     ]
    },
    {
     "name": "stderr",
     "output_type": "stream",
     "text": [
      "C:\\Users\\shilong\\AppData\\Local\\Temp\\ipykernel_45488\\1621243830.py:26: UserWarning: Test for symmetries not implemented for <class 'quspin.basis.basis_1d.spin.spin_basis_1d'>, to turn off this warning set check_symm=False in hamiltonian\n",
      "  hxyeven=hamiltonian(static_hxyeven,dynamic,basis=basis1,dtype=np.complex128)\n",
      "C:\\Users\\shilong\\AppData\\Local\\Temp\\ipykernel_45488\\1621243830.py:27: UserWarning: Test for symmetries not implemented for <class 'quspin.basis.basis_1d.spin.spin_basis_1d'>, to turn off this warning set check_symm=False in hamiltonian\n",
      "  hzz=hamiltonian(static_hzz,dynamic,basis=basis1,dtype=np.complex128)#*(1/g)\n"
     ]
    },
    {
     "name": "stdout",
     "output_type": "stream",
     "text": [
      "Hermiticity check passed!\n",
      "Hermiticity check passed!\n"
     ]
    },
    {
     "name": "stderr",
     "output_type": "stream",
     "text": [
      "C:\\Users\\shilong\\AppData\\Local\\Temp\\ipykernel_45488\\1621243830.py:28: UserWarning: Test for symmetries not implemented for <class 'quspin.basis.basis_1d.spin.spin_basis_1d'>, to turn off this warning set check_symm=False in hamiltonian\n",
      "  hz=hamiltonian(static_hz,dynamic,basis=basis1,dtype=np.complex128)\n",
      "C:\\Users\\shilong\\AppData\\Local\\Temp\\ipykernel_45488\\1621243830.py:29: UserWarning: Test for symmetries not implemented for <class 'quspin.basis.basis_1d.spin.spin_basis_1d'>, to turn off this warning set check_symm=False in hamiltonian\n",
      "  ham=hamiltonian(static_ham,dynamic,basis=basis1,dtype=np.complex128)\n"
     ]
    }
   ],
   "source": [
    "#set the H=H1+...+H4\n",
    "basis1=spin_basis_1d(L=L,pauli=-1)\n",
    "hyx_even=[[-1/4,2*i,2*i+1] for i in range(int(L/2))]\n",
    "hxy_even=[[1/4,2*i,2*i+1] for i in range(int(L/2))]\n",
    "hyx_odd=[[-1/4,2*i+1,2*i+2] for i in range(int(L/2)-1)]\n",
    "hxy_odd=[[1/4,2*i+1,2*i+2] for i in range(int(L/2)-1)]\n",
    "boundary_term1=[[-1/4]+boundary('x','y',0,L-1)[1]]\n",
    "boundary_term2=[[1/4]+boundary('y','x',0,L-1)[1]]\n",
    "hzz=[[g/2,2*i,2*i+1] for i in range(int(L/2))]\n",
    "hz=[[-(m/2+r/2)*(-1)**i,i] for i in range(L)]\n",
    "hI=[[-g/2,2*i] for i in range(int(L/2))]\n",
    "hWxx_even=[[-r/4,2*i,2*i+1,2*i+2] for i in range(int(L/2)-1)]\n",
    "hWxx_odd=[[r/4,2*i+1,2*i+2,2*i+3] for i in range(int(L/2)-1)]\n",
    "#hWz=[[-(-1)**i*r/2,i] for i in range(L)]\n",
    "hWb1=[[-r/4]+boundary('x','x',0,L-2)[1]]\n",
    "hWb2=[[r/4]+boundary('x','x',1,L-1)[1]]\n",
    "static_hxyeven=[['yx',hyx_even],['xy',hxy_even],['xzx',hWxx_even],['yzy',hWxx_even],[boundary('x','x',0,L-2)[0],hWb1],[boundary('y','y',0,L-2)[0],hWb1]]\n",
    "static_hxyodd=[['yx',hyx_odd],['xy',hxy_odd],['xzx',hWxx_odd],['yzy',hWxx_odd],[boundary('x','x',1,L-1)[0],hWb2],[boundary('y','y',1,L-1)[0],hWb2],[boundary('x','y',0,L-1)[0],boundary_term1],[boundary('y','x',0,L-1)[0],boundary_term2]]\n",
    "static_hzz=[['zz',hzz]]\n",
    "static_hz=[['z',hz]]\n",
    "static_hI=[['I',hI]]\n",
    "#static_hW=[['xzx',hWxx],['yzy',hWyy],['z',hWz],[boundary('x','x',0,L-2)[0],hWb1],[boundary('y','y',0,L-2)[0],hWb1],[boundary('x','x',1,L-1)[0],hWb2],[boundary('y','y',1,L-1)[0],hWb2]]\n",
    "static_ham=static_hxyeven+static_hxyodd+static_hzz+static_hz+static_hI#+static_hW\n",
    "dynamic=[]\n",
    "hxyodd=hamiltonian(static_hxyodd,dynamic,basis=basis1,dtype=np.complex128)\n",
    "hxyeven=hamiltonian(static_hxyeven,dynamic,basis=basis1,dtype=np.complex128)\n",
    "hzz=hamiltonian(static_hzz,dynamic,basis=basis1,dtype=np.complex128)#*(1/g)\n",
    "hz=hamiltonian(static_hz,dynamic,basis=basis1,dtype=np.complex128)\n",
    "ham=hamiltonian(static_ham,dynamic,basis=basis1,dtype=np.complex128)"
   ]
  },
  {
   "cell_type": "code",
   "execution_count": 7,
   "metadata": {},
   "outputs": [],
   "source": [
    "#compute the vacuum state and vacuum engergy with num method\n",
    "E0,V0=ham.eigsh(which='SA',k=1)"
   ]
  },
  {
   "cell_type": "code",
   "execution_count": 8,
   "metadata": {},
   "outputs": [
    {
     "name": "stdout",
     "output_type": "stream",
     "text": [
      "Hermiticity check passed!\n",
      "Particle conservation check passed!\n"
     ]
    },
    {
     "name": "stderr",
     "output_type": "stream",
     "text": [
      "C:\\Users\\shilong\\AppData\\Local\\Temp\\ipykernel_45488\\957029705.py:3: UserWarning: Test for symmetries not implemented for <class 'quspin.basis.basis_1d.spin.spin_basis_1d'>, to turn off this warning set check_symm=False in hamiltonian\n",
      "  sub_ham=hamiltonian(static_ham,dynamic,basis=basis2,dtype=np.complex128)\n"
     ]
    }
   ],
   "source": [
    "#set the ham in the Q=0 subspace\n",
    "basis2=spin_basis_1d(L=L,Nup=charge,pauli=-1)\n",
    "sub_ham=hamiltonian(static_ham,dynamic,basis=basis2,dtype=np.complex128)"
   ]
  },
  {
   "cell_type": "code",
   "execution_count": 9,
   "metadata": {},
   "outputs": [],
   "source": [
    "#compute the qqbar state and qqbar state energy with num method\n",
    "p=0\n",
    "psi=np.zeros(2**L,dtype=np.complex128)\n",
    "E,V=sub_ham.eigsh(which='SA',k=10)\n",
    "for i in range(length):\n",
    "    psi[2**L-1-basis2[i]]=V[:,p][i]"
   ]
  },
  {
   "cell_type": "code",
   "execution_count": 10,
   "metadata": {},
   "outputs": [
    {
     "name": "stdout",
     "output_type": "stream",
     "text": [
      "[1.2715891838700308, 1.504109763701864, 1.8157659590040778, 1.504109763701888, 1.8157659590040813, 3.021820632001936, 2.9193475145362306, 2.919347514536251, 2.9889711139119584, 2.98897111391192]\n"
     ]
    }
   ],
   "source": [
    "eng=[]\n",
    "for i in range(len(E)):\n",
    "    eng.append(E[i]-E0[0])\n",
    "print(eng)"
   ]
  },
  {
   "cell_type": "code",
   "execution_count": 11,
   "metadata": {},
   "outputs": [],
   "source": [
    "# define the initial state for QAOA\n",
    "def psi0():\n",
    "    ini_state1=np.zeros((2**L,1),dtype=np.complex128)[:,0]\n",
    "    ini_state2=np.zeros((2**L,1),dtype=np.complex128)[:,0]\n",
    "    ini_state3=np.zeros((2**L,1),dtype=np.complex128)[:,0]\n",
    "    for i in range(2**(L)):\n",
    "        if counting(bins(2**L-1-i,L))[0]==1 and counting(bins(2**L-1-i,L))[1]==1 and counting(bins(2**L-1-i,L))[2]==counting(bins(2**L-1-i,L))[3]:\n",
    "            ini_state1[i]=1\n",
    "        if counting(bins(2**L-1-i,L))[0]==0 and counting(bins(2**L-1-i,L))[1]==0:\n",
    "            ini_state2[i]=1\n",
    "        #if (i==469 or i==725): #or i==347 or i==854 or i==725 or i==365 or i==437 or i==858 or i==363 or i==726 or i==429 or i==693):\n",
    "        if counting(bins(2**L-1-i,L))[0]==1 and counting(bins(2**L-1-i,L))[1]==0:\n",
    "            ini_state3[i]=1\n",
    "    ini_state1=ini_state1/np.linalg.norm(ini_state1)\n",
    "    ini_state3=ini_state3/np.linalg.norm(ini_state3)\n",
    "    return ini_state2,ini_state1,ini_state3"
   ]
  },
  {
   "cell_type": "code",
   "execution_count": 12,
   "metadata": {},
   "outputs": [],
   "source": [
    "#the H1...H4 evoluation of QAOA\n",
    "def QAOA_state(psi0,layers,parameters):\n",
    "    evo=[]\n",
    "    for i in range(layers):\n",
    "        evo.append(expm_multiply_parallel(hxyeven.tocsr(),a=-1j*parameters[4*i],dtype=dtype_cmplx))\n",
    "        evo.append(expm_multiply_parallel(hzz.tocsr(),a=-1j*parameters[4*i+1],dtype=dtype_cmplx))\n",
    "        evo.append(expm_multiply_parallel(hxyodd.tocsr(),a=-1j*parameters[4*i+2],dtype=dtype_cmplx))\n",
    "        evo.append(expm_multiply_parallel(hz.tocsr(),a=-1j*parameters[4*i+3],dtype=dtype_cmplx))\n",
    "    for i in range(len(parameters)):\n",
    "        psi0=evo[i].dot(psi0)\n",
    "    eng=np.real(np.dot(np.conjugate(psi0),ham.dot(psi0)))\n",
    "    return psi0,eng.append(expm_multiply_parallel(hz.tocsr(),a=-1j*parameters[4*i+3],dtype=dtype_cmplx))\n",
    "    for i in range(len(parameters)):\n",
    "        psi0=evo[i].dot(psi0)\n",
    "    eng=np.real(np.dot(np.conjugate(psi0),ham.dot(psi0)))\n",
    "    return psi0,eng"
   ]
  },
  {
   "cell_type": "code",
   "execution_count": 13,
   "metadata": {},
   "outputs": [],
   "source": [
    "#define the object function\n",
    "psi1=psi0()[0]\n",
    "psi2=psi0()[1]\n",
    "psi3=psi0()[2]\n",
    "'''\n",
    "def object_fun(parameters):\n",
    "    fun=QAOA_state(psi1,layers,parameters)[1]+0.5*QAOA_state(psi2,layers,parameters)[1]\n",
    "    return fun\n",
    "'''\n",
    "\n",
    "def object_fun(parameters):\n",
    "    fun=QAOA_state(psi3,layers,parameters)[1]\n",
    "    return fun\n"
   ]
  },
  {
   "cell_type": "code",
   "execution_count": 14,
   "metadata": {},
   "outputs": [
    {
     "data": {
      "text/plain": [
       "'\\ndef VQE():\\n    #params = np.zeros((1,4*layers))[0]\\n    minimizer_kwargs = {\"method\": \"BFGS\"}\\n    params = np.random.rand(4*layers)\\n    optimizer = basinhopping(object_fun,params,minimizer_kwargs=minimizer_kwargs,niter=2,T=0.8,disp=True)\\n    return optimizer.x.tolist()\\n'"
      ]
     },
     "execution_count": 14,
     "metadata": {},
     "output_type": "execute_result"
    }
   ],
   "source": [
    "#define what method to minimize the object function\n",
    "\n",
    "def VQE():\n",
    "    #params = np.zeros((1,4*layers))[0]\n",
    "    params = np.random.rand(4*layers)\n",
    "    #params = [-1.5682619386875696, 0.21971224390057, -0.03138909415951295, 1.7851245659805441, 0.5628852288958396, 2.437407019621721, 0.2843886182832214, -1.1754136197932012, 0.9949192159137364, 2.6486242655760077, 0.5280684657676477, -0.060239746546982775, 1.744707778976667, 0.6727739390950436, 0.47630495285023267, 1.1650458636527057, 3.3403919849430252, -0.16666276007755867, -0.2158632189935829, 1.2150069363465057, 0.34307210869529836, 2.203321796604741, -0.15203693675059018, 0.5207576003627894, 1.7795067791756296, -1.5485378801547731, 0.30721567990034127, 0.5225229646720281]\n",
    "    optimizer = scipy.optimize.minimize(fun=object_fun, x0=params, method='BFGS', options={'gtol': 1e-05, 'eps': 1e-08, 'disp': True})\n",
    "    return optimizer.x.tolist()\n",
    "\n",
    "'''\n",
    "def VQE():\n",
    "    #params = np.zeros((1,4*layers))[0]\n",
    "    minimizer_kwargs = {\"method\": \"BFGS\"}\n",
    "    params = np.random.rand(4*layers)\n",
    "    optimizer = basinhopping(object_fun,params,minimizer_kwargs=minimizer_kwargs,niter=2,T=0.8,disp=True)\n",
    "    return optimizer.x.tolist()\n",
    "'''"
   ]
  },
  {
   "cell_type": "code",
   "execution_count": 15,
   "metadata": {},
   "outputs": [
    {
     "ename": "AttributeError",
     "evalue": "'numpy.float64' object has no attribute 'append'",
     "output_type": "error",
     "traceback": [
      "\u001b[1;31m---------------------------------------------------------------------------\u001b[0m",
      "\u001b[1;31mAttributeError\u001b[0m                            Traceback (most recent call last)",
      "Cell \u001b[1;32mIn[15], line 2\u001b[0m\n\u001b[0;32m      1\u001b[0m \u001b[39m#obtain the theta^* parameter\u001b[39;00m\n\u001b[1;32m----> 2\u001b[0m aa\u001b[39m=\u001b[39mVQE()\n",
      "Cell \u001b[1;32mIn[14], line 7\u001b[0m, in \u001b[0;36mVQE\u001b[1;34m()\u001b[0m\n\u001b[0;32m      5\u001b[0m params \u001b[39m=\u001b[39m np\u001b[39m.\u001b[39mrandom\u001b[39m.\u001b[39mrand(\u001b[39m4\u001b[39m\u001b[39m*\u001b[39mlayers)\n\u001b[0;32m      6\u001b[0m \u001b[39m#params = [-1.5682619386875696, 0.21971224390057, -0.03138909415951295, 1.7851245659805441, 0.5628852288958396, 2.437407019621721, 0.2843886182832214, -1.1754136197932012, 0.9949192159137364, 2.6486242655760077, 0.5280684657676477, -0.060239746546982775, 1.744707778976667, 0.6727739390950436, 0.47630495285023267, 1.1650458636527057, 3.3403919849430252, -0.16666276007755867, -0.2158632189935829, 1.2150069363465057, 0.34307210869529836, 2.203321796604741, -0.15203693675059018, 0.5207576003627894, 1.7795067791756296, -1.5485378801547731, 0.30721567990034127, 0.5225229646720281]\u001b[39;00m\n\u001b[1;32m----> 7\u001b[0m optimizer \u001b[39m=\u001b[39m scipy\u001b[39m.\u001b[39;49moptimize\u001b[39m.\u001b[39;49mminimize(fun\u001b[39m=\u001b[39;49mobject_fun, x0\u001b[39m=\u001b[39;49mparams, method\u001b[39m=\u001b[39;49m\u001b[39m'\u001b[39;49m\u001b[39mBFGS\u001b[39;49m\u001b[39m'\u001b[39;49m, options\u001b[39m=\u001b[39;49m{\u001b[39m'\u001b[39;49m\u001b[39mgtol\u001b[39;49m\u001b[39m'\u001b[39;49m: \u001b[39m1e-05\u001b[39;49m, \u001b[39m'\u001b[39;49m\u001b[39meps\u001b[39;49m\u001b[39m'\u001b[39;49m: \u001b[39m1e-08\u001b[39;49m, \u001b[39m'\u001b[39;49m\u001b[39mdisp\u001b[39;49m\u001b[39m'\u001b[39;49m: \u001b[39mTrue\u001b[39;49;00m})\n\u001b[0;32m      8\u001b[0m \u001b[39mreturn\u001b[39;00m optimizer\u001b[39m.\u001b[39mx\u001b[39m.\u001b[39mtolist()\n",
      "File \u001b[1;32mc:\\Users\\shilong\\.conda\\envs\\qutip-env\\lib\\site-packages\\scipy\\optimize\\_minimize.py:691\u001b[0m, in \u001b[0;36mminimize\u001b[1;34m(fun, x0, args, method, jac, hess, hessp, bounds, constraints, tol, callback, options)\u001b[0m\n\u001b[0;32m    689\u001b[0m     res \u001b[39m=\u001b[39m _minimize_cg(fun, x0, args, jac, callback, \u001b[39m*\u001b[39m\u001b[39m*\u001b[39moptions)\n\u001b[0;32m    690\u001b[0m \u001b[39melif\u001b[39;00m meth \u001b[39m==\u001b[39m \u001b[39m'\u001b[39m\u001b[39mbfgs\u001b[39m\u001b[39m'\u001b[39m:\n\u001b[1;32m--> 691\u001b[0m     res \u001b[39m=\u001b[39m _minimize_bfgs(fun, x0, args, jac, callback, \u001b[39m*\u001b[39;49m\u001b[39m*\u001b[39;49moptions)\n\u001b[0;32m    692\u001b[0m \u001b[39melif\u001b[39;00m meth \u001b[39m==\u001b[39m \u001b[39m'\u001b[39m\u001b[39mnewton-cg\u001b[39m\u001b[39m'\u001b[39m:\n\u001b[0;32m    693\u001b[0m     res \u001b[39m=\u001b[39m _minimize_newtoncg(fun, x0, args, jac, hess, hessp, callback,\n\u001b[0;32m    694\u001b[0m                              \u001b[39m*\u001b[39m\u001b[39m*\u001b[39moptions)\n",
      "File \u001b[1;32mc:\\Users\\shilong\\.conda\\envs\\qutip-env\\lib\\site-packages\\scipy\\optimize\\_optimize.py:1362\u001b[0m, in \u001b[0;36m_minimize_bfgs\u001b[1;34m(fun, x0, args, jac, callback, gtol, norm, eps, maxiter, disp, return_all, finite_diff_rel_step, xrtol, **unknown_options)\u001b[0m\n\u001b[0;32m   1359\u001b[0m \u001b[39mif\u001b[39;00m maxiter \u001b[39mis\u001b[39;00m \u001b[39mNone\u001b[39;00m:\n\u001b[0;32m   1360\u001b[0m     maxiter \u001b[39m=\u001b[39m \u001b[39mlen\u001b[39m(x0) \u001b[39m*\u001b[39m \u001b[39m200\u001b[39m\n\u001b[1;32m-> 1362\u001b[0m sf \u001b[39m=\u001b[39m _prepare_scalar_function(fun, x0, jac, args\u001b[39m=\u001b[39;49margs, epsilon\u001b[39m=\u001b[39;49meps,\n\u001b[0;32m   1363\u001b[0m                               finite_diff_rel_step\u001b[39m=\u001b[39;49mfinite_diff_rel_step)\n\u001b[0;32m   1365\u001b[0m f \u001b[39m=\u001b[39m sf\u001b[39m.\u001b[39mfun\n\u001b[0;32m   1366\u001b[0m myfprime \u001b[39m=\u001b[39m sf\u001b[39m.\u001b[39mgrad\n",
      "File \u001b[1;32mc:\\Users\\shilong\\.conda\\envs\\qutip-env\\lib\\site-packages\\scipy\\optimize\\_optimize.py:332\u001b[0m, in \u001b[0;36m_prepare_scalar_function\u001b[1;34m(fun, x0, jac, args, bounds, epsilon, finite_diff_rel_step, hess)\u001b[0m\n\u001b[0;32m    328\u001b[0m     bounds \u001b[39m=\u001b[39m (\u001b[39m-\u001b[39mnp\u001b[39m.\u001b[39minf, np\u001b[39m.\u001b[39minf)\n\u001b[0;32m    330\u001b[0m \u001b[39m# ScalarFunction caches. Reuse of fun(x) during grad\u001b[39;00m\n\u001b[0;32m    331\u001b[0m \u001b[39m# calculation reduces overall function evaluations.\u001b[39;00m\n\u001b[1;32m--> 332\u001b[0m sf \u001b[39m=\u001b[39m ScalarFunction(fun, x0, args, grad, hess,\n\u001b[0;32m    333\u001b[0m                     finite_diff_rel_step, bounds, epsilon\u001b[39m=\u001b[39;49mepsilon)\n\u001b[0;32m    335\u001b[0m \u001b[39mreturn\u001b[39;00m sf\n",
      "File \u001b[1;32mc:\\Users\\shilong\\.conda\\envs\\qutip-env\\lib\\site-packages\\scipy\\optimize\\_differentiable_functions.py:158\u001b[0m, in \u001b[0;36mScalarFunction.__init__\u001b[1;34m(self, fun, x0, args, grad, hess, finite_diff_rel_step, finite_diff_bounds, epsilon)\u001b[0m\n\u001b[0;32m    155\u001b[0m     \u001b[39mself\u001b[39m\u001b[39m.\u001b[39mf \u001b[39m=\u001b[39m fun_wrapped(\u001b[39mself\u001b[39m\u001b[39m.\u001b[39mx)\n\u001b[0;32m    157\u001b[0m \u001b[39mself\u001b[39m\u001b[39m.\u001b[39m_update_fun_impl \u001b[39m=\u001b[39m update_fun\n\u001b[1;32m--> 158\u001b[0m \u001b[39mself\u001b[39;49m\u001b[39m.\u001b[39;49m_update_fun()\n\u001b[0;32m    160\u001b[0m \u001b[39m# Gradient evaluation\u001b[39;00m\n\u001b[0;32m    161\u001b[0m \u001b[39mif\u001b[39;00m callable(grad):\n",
      "File \u001b[1;32mc:\\Users\\shilong\\.conda\\envs\\qutip-env\\lib\\site-packages\\scipy\\optimize\\_differentiable_functions.py:251\u001b[0m, in \u001b[0;36mScalarFunction._update_fun\u001b[1;34m(self)\u001b[0m\n\u001b[0;32m    249\u001b[0m \u001b[39mdef\u001b[39;00m \u001b[39m_update_fun\u001b[39m(\u001b[39mself\u001b[39m):\n\u001b[0;32m    250\u001b[0m     \u001b[39mif\u001b[39;00m \u001b[39mnot\u001b[39;00m \u001b[39mself\u001b[39m\u001b[39m.\u001b[39mf_updated:\n\u001b[1;32m--> 251\u001b[0m         \u001b[39mself\u001b[39;49m\u001b[39m.\u001b[39;49m_update_fun_impl()\n\u001b[0;32m    252\u001b[0m         \u001b[39mself\u001b[39m\u001b[39m.\u001b[39mf_updated \u001b[39m=\u001b[39m \u001b[39mTrue\u001b[39;00m\n",
      "File \u001b[1;32mc:\\Users\\shilong\\.conda\\envs\\qutip-env\\lib\\site-packages\\scipy\\optimize\\_differentiable_functions.py:155\u001b[0m, in \u001b[0;36mScalarFunction.__init__.<locals>.update_fun\u001b[1;34m()\u001b[0m\n\u001b[0;32m    154\u001b[0m \u001b[39mdef\u001b[39;00m \u001b[39mupdate_fun\u001b[39m():\n\u001b[1;32m--> 155\u001b[0m     \u001b[39mself\u001b[39m\u001b[39m.\u001b[39mf \u001b[39m=\u001b[39m fun_wrapped(\u001b[39mself\u001b[39;49m\u001b[39m.\u001b[39;49mx)\n",
      "File \u001b[1;32mc:\\Users\\shilong\\.conda\\envs\\qutip-env\\lib\\site-packages\\scipy\\optimize\\_differentiable_functions.py:137\u001b[0m, in \u001b[0;36mScalarFunction.__init__.<locals>.fun_wrapped\u001b[1;34m(x)\u001b[0m\n\u001b[0;32m    133\u001b[0m \u001b[39mself\u001b[39m\u001b[39m.\u001b[39mnfev \u001b[39m+\u001b[39m\u001b[39m=\u001b[39m \u001b[39m1\u001b[39m\n\u001b[0;32m    134\u001b[0m \u001b[39m# Send a copy because the user may overwrite it.\u001b[39;00m\n\u001b[0;32m    135\u001b[0m \u001b[39m# Overwriting results in undefined behaviour because\u001b[39;00m\n\u001b[0;32m    136\u001b[0m \u001b[39m# fun(self.x) will change self.x, with the two no longer linked.\u001b[39;00m\n\u001b[1;32m--> 137\u001b[0m fx \u001b[39m=\u001b[39m fun(np\u001b[39m.\u001b[39;49mcopy(x), \u001b[39m*\u001b[39;49margs)\n\u001b[0;32m    138\u001b[0m \u001b[39m# Make sure the function returns a true scalar\u001b[39;00m\n\u001b[0;32m    139\u001b[0m \u001b[39mif\u001b[39;00m \u001b[39mnot\u001b[39;00m np\u001b[39m.\u001b[39misscalar(fx):\n",
      "Cell \u001b[1;32mIn[13], line 12\u001b[0m, in \u001b[0;36mobject_fun\u001b[1;34m(parameters)\u001b[0m\n\u001b[0;32m     11\u001b[0m \u001b[39mdef\u001b[39;00m \u001b[39mobject_fun\u001b[39m(parameters):\n\u001b[1;32m---> 12\u001b[0m     fun\u001b[39m=\u001b[39mQAOA_state(psi3,layers,parameters)[\u001b[39m1\u001b[39m]\n\u001b[0;32m     13\u001b[0m     \u001b[39mreturn\u001b[39;00m fun\n",
      "Cell \u001b[1;32mIn[12], line 12\u001b[0m, in \u001b[0;36mQAOA_state\u001b[1;34m(psi0, layers, parameters)\u001b[0m\n\u001b[0;32m     10\u001b[0m     psi0\u001b[39m=\u001b[39mevo[i]\u001b[39m.\u001b[39mdot(psi0)\n\u001b[0;32m     11\u001b[0m eng\u001b[39m=\u001b[39mnp\u001b[39m.\u001b[39mreal(np\u001b[39m.\u001b[39mdot(np\u001b[39m.\u001b[39mconjugate(psi0),ham\u001b[39m.\u001b[39mdot(psi0)))\n\u001b[1;32m---> 12\u001b[0m \u001b[39mreturn\u001b[39;00m psi0,eng\u001b[39m.\u001b[39;49mappend(expm_multiply_parallel(hz\u001b[39m.\u001b[39mtocsr(),a\u001b[39m=\u001b[39m\u001b[39m-\u001b[39m\u001b[39m1\u001b[39mj\u001b[39m*\u001b[39mparameters[\u001b[39m4\u001b[39m\u001b[39m*\u001b[39mi\u001b[39m+\u001b[39m\u001b[39m3\u001b[39m],dtype\u001b[39m=\u001b[39mdtype_cmplx))\n\u001b[0;32m     13\u001b[0m \u001b[39mfor\u001b[39;00m i \u001b[39min\u001b[39;00m \u001b[39mrange\u001b[39m(\u001b[39mlen\u001b[39m(parameters)):\n\u001b[0;32m     14\u001b[0m     psi0\u001b[39m=\u001b[39mevo[i]\u001b[39m.\u001b[39mdot(psi0)\n",
      "\u001b[1;31mAttributeError\u001b[0m: 'numpy.float64' object has no attribute 'append'"
     ]
    }
   ],
   "source": [
    "#obtain the theta^* parameter\n",
    "aa=VQE()"
   ]
  },
  {
   "cell_type": "code",
   "execution_count": null,
   "metadata": {},
   "outputs": [],
   "source": [
    "print(aa)"
   ]
  },
  {
   "cell_type": "code",
   "execution_count": null,
   "metadata": {},
   "outputs": [],
   "source": [
    "E"
   ]
  },
  {
   "cell_type": "code",
   "execution_count": null,
   "metadata": {},
   "outputs": [],
   "source": [
    "proba_list=np.real(psi*np.conjugate(psi)).tolist()\n",
    "print(proba_list.index(max(proba_list)))\n",
    "print(basis1.int_to_state(2**10-469-1))"
   ]
  },
  {
   "cell_type": "code",
   "execution_count": null,
   "metadata": {},
   "outputs": [],
   "source": [
    "import heapq\n",
    " \n",
    "tmp = zip(range(len(proba_list)), proba_list)\n",
    "large5 = heapq.nlargest(50, tmp, key=lambda x:x[1])\n",
    "print(large5)"
   ]
  },
  {
   "cell_type": "code",
   "execution_count": null,
   "metadata": {},
   "outputs": [],
   "source": [
    "object_fun(para)"
   ]
  },
  {
   "cell_type": "markdown",
   "metadata": {},
   "source": [
    "file_VQE_qqbar_para=open('/home/lty/胤/code_for_SCNU_super_computer/PDF_NJL/VQE_qqbar_para/QCpara-N10ma02g08r0L10.txt',mode='w')\n",
    "file_VQE_qqbar_para.write(str(aa))\n",
    "file_VQE_qqbar_para.close()"
   ]
  },
  {
   "cell_type": "code",
   "execution_count": null,
   "metadata": {},
   "outputs": [],
   "source": [
    "for i in range(100):\n",
    "    print([object_fun(np.array(aa)+0.01*np.random.rand(4*layers)),object_fun(np.array(aa))])"
   ]
  },
  {
   "cell_type": "markdown",
   "metadata": {},
   "source": [
    "compute the PDFs in the quantum computer"
   ]
  },
  {
   "cell_type": "code",
   "execution_count": null,
   "metadata": {},
   "outputs": [],
   "source": [
    "para=aa\n",
    "#para=eval(open('/home/lty/胤/code_for_SCNU_super_computer/PDF_NJL/VQE_qqbar_para/QCpara-N10ma02g08r0L10.txt',mode='r').read())"
   ]
  },
  {
   "cell_type": "code",
   "execution_count": null,
   "metadata": {},
   "outputs": [],
   "source": [
    "#prapare the Omega and qqbar state with theta^*\n",
    "vac_state,Evac=QAOA_state(psi1,layers,para)\n",
    "qqbar_state,Eqqbar=QAOA_state(psi2,layers,para)"
   ]
  },
  {
   "cell_type": "code",
   "execution_count": null,
   "metadata": {},
   "outputs": [
    {
     "name": "stdout",
     "output_type": "stream",
     "text": [
      "0.9123622300691423\n"
     ]
    }
   ],
   "source": [
    "#compute the hadron mass with quantum computing\n",
    "P_mass=Eqqbar-Evac\n",
    "print(P_mass)\n",
    "vol=a"
   ]
  },
  {
   "cell_type": "code",
   "execution_count": null,
   "metadata": {},
   "outputs": [],
   "source": [
    "#the operator in T_ij\n",
    "def string(coff,pauil,pos):\n",
    "    string=[]\n",
    "    string_pos=[]\n",
    "    basis=spin_basis_1d(L=L,pauli=-1)\n",
    "    for i in range(pos):\n",
    "        string.append('z')\n",
    "        string_pos.append(i)\n",
    "    string.append(pauil)\n",
    "    string_pos.append(pos)\n",
    "    string=''.join(string)\n",
    "    string_list=[[string,[[coff]+string_pos]]]\n",
    "    string_dict=dict(H0=string_list)\n",
    "    string_op=quantum_operator(string_dict,basis=basis,check_herm=False)\n",
    "    return string_op"
   ]
  },
  {
   "cell_type": "code",
   "execution_count": null,
   "metadata": {},
   "outputs": [],
   "source": [
    "#compute the position space PDF\n",
    "def quPDFs(psi,index_corr,t1,z1,t2,z2):\n",
    "    psi1=copy.deepcopy(psi)\n",
    "    psi=expm_multiply_parallel(ham.tocsr(),a=-1j*vol*t2,dtype=dtype_cmplx).dot(psi)\n",
    "    psi=string(1,'+',2*z2+int(L/2-1)+(index_corr[1]+1)%2).dot(psi)\n",
    "    psi=expm_multiply_parallel(ham.tocsr(),a=-1j*vol*(t1-t2),dtype=dtype_cmplx).dot(psi)\n",
    "    psi=string(1,'-',2*z1+int(L/2-1)+(index_corr[0]+1)%2).dot(psi)\n",
    "    psi=expm_multiply_parallel(ham.tocsr(),a=1j*vol*t1,dtype=dtype_cmplx).dot(psi)\n",
    "    quPDFs=np.dot(np.conjugate(psi1),psi)\n",
    "    return quPDFs"
   ]
  },
  {
   "cell_type": "code",
   "execution_count": null,
   "metadata": {
    "collapsed": true,
    "jupyter": {
     "outputs_hidden": true
    }
   },
   "outputs": [
    {
     "name": "stderr",
     "output_type": "stream",
     "text": [
      "<ipython-input-24-3cf62e99e64c>:14: UserWarning: Test for symmetries not implemented for <class 'quspin.basis.basis_1d.spin.spin_basis_1d'>, to turn off this warning set check_symm=False in hamiltonian\n",
      "  string_op=quantum_operator(string_dict,basis=basis,check_herm=False)\n"
     ]
    },
    {
     "ename": "KeyboardInterrupt",
     "evalue": "",
     "output_type": "error",
     "traceback": [
      "\u001b[0;31m---------------------------------------------------------------------------\u001b[0m",
      "\u001b[0;31mKeyboardInterrupt\u001b[0m                         Traceback (most recent call last)",
      "\u001b[0;32m<ipython-input-26-8975ce8f524a>\u001b[0m in \u001b[0;36m<module>\u001b[0;34m\u001b[0m\n\u001b[1;32m      5\u001b[0m \u001b[0mPDFs22\u001b[0m\u001b[0;34m=\u001b[0m\u001b[0;34m[\u001b[0m\u001b[0;34m]\u001b[0m\u001b[0;34m\u001b[0m\u001b[0;34m\u001b[0m\u001b[0m\n\u001b[1;32m      6\u001b[0m \u001b[0;32mfor\u001b[0m \u001b[0mi\u001b[0m \u001b[0;32min\u001b[0m \u001b[0mrange\u001b[0m\u001b[0;34m(\u001b[0m\u001b[0mint\u001b[0m\u001b[0;34m(\u001b[0m\u001b[0mL\u001b[0m\u001b[0;34m/\u001b[0m\u001b[0;36m2\u001b[0m\u001b[0;34m)\u001b[0m\u001b[0;34m)\u001b[0m\u001b[0;34m:\u001b[0m\u001b[0;34m\u001b[0m\u001b[0;34m\u001b[0m\u001b[0m\n\u001b[0;32m----> 7\u001b[0;31m     \u001b[0mPDFs11\u001b[0m\u001b[0;34m.\u001b[0m\u001b[0mappend\u001b[0m\u001b[0;34m(\u001b[0m\u001b[0mquPDFs\u001b[0m\u001b[0;34m(\u001b[0m\u001b[0mvac_state\u001b[0m\u001b[0;34m,\u001b[0m\u001b[0;34m[\u001b[0m\u001b[0;36m1\u001b[0m\u001b[0;34m,\u001b[0m\u001b[0;36m1\u001b[0m\u001b[0;34m]\u001b[0m\u001b[0;34m,\u001b[0m\u001b[0mi\u001b[0m\u001b[0;34m-\u001b[0m\u001b[0mint\u001b[0m\u001b[0;34m(\u001b[0m\u001b[0;34m(\u001b[0m\u001b[0mL\u001b[0m\u001b[0;34m/\u001b[0m\u001b[0;36m2\u001b[0m\u001b[0;34m-\u001b[0m\u001b[0;36m1\u001b[0m\u001b[0;34m)\u001b[0m\u001b[0;34m/\u001b[0m\u001b[0;36m2\u001b[0m\u001b[0;34m)\u001b[0m\u001b[0;34m,\u001b[0m\u001b[0;34m-\u001b[0m\u001b[0mi\u001b[0m\u001b[0;34m+\u001b[0m\u001b[0mint\u001b[0m\u001b[0;34m(\u001b[0m\u001b[0;34m(\u001b[0m\u001b[0mL\u001b[0m\u001b[0;34m/\u001b[0m\u001b[0;36m2\u001b[0m\u001b[0;34m-\u001b[0m\u001b[0;36m1\u001b[0m\u001b[0;34m)\u001b[0m\u001b[0;34m/\u001b[0m\u001b[0;36m2\u001b[0m\u001b[0;34m)\u001b[0m\u001b[0;34m,\u001b[0m\u001b[0;36m0\u001b[0m\u001b[0;34m,\u001b[0m\u001b[0;36m0\u001b[0m\u001b[0;34m)\u001b[0m\u001b[0;34m)\u001b[0m\u001b[0;34m\u001b[0m\u001b[0;34m\u001b[0m\u001b[0m\n\u001b[0m\u001b[1;32m      8\u001b[0m     \u001b[0mPDFs12\u001b[0m\u001b[0;34m.\u001b[0m\u001b[0mappend\u001b[0m\u001b[0;34m(\u001b[0m\u001b[0mquPDFs\u001b[0m\u001b[0;34m(\u001b[0m\u001b[0mvac_state\u001b[0m\u001b[0;34m,\u001b[0m\u001b[0;34m[\u001b[0m\u001b[0;36m1\u001b[0m\u001b[0;34m,\u001b[0m\u001b[0;36m2\u001b[0m\u001b[0;34m]\u001b[0m\u001b[0;34m,\u001b[0m\u001b[0mi\u001b[0m\u001b[0;34m-\u001b[0m\u001b[0mint\u001b[0m\u001b[0;34m(\u001b[0m\u001b[0;34m(\u001b[0m\u001b[0mL\u001b[0m\u001b[0;34m/\u001b[0m\u001b[0;36m2\u001b[0m\u001b[0;34m-\u001b[0m\u001b[0;36m1\u001b[0m\u001b[0;34m)\u001b[0m\u001b[0;34m/\u001b[0m\u001b[0;36m2\u001b[0m\u001b[0;34m)\u001b[0m\u001b[0;34m,\u001b[0m\u001b[0;34m-\u001b[0m\u001b[0mi\u001b[0m\u001b[0;34m+\u001b[0m\u001b[0mint\u001b[0m\u001b[0;34m(\u001b[0m\u001b[0;34m(\u001b[0m\u001b[0mL\u001b[0m\u001b[0;34m/\u001b[0m\u001b[0;36m2\u001b[0m\u001b[0;34m-\u001b[0m\u001b[0;36m1\u001b[0m\u001b[0;34m)\u001b[0m\u001b[0;34m/\u001b[0m\u001b[0;36m2\u001b[0m\u001b[0;34m)\u001b[0m\u001b[0;34m,\u001b[0m\u001b[0;36m0\u001b[0m\u001b[0;34m,\u001b[0m\u001b[0;36m0\u001b[0m\u001b[0;34m)\u001b[0m\u001b[0;34m)\u001b[0m\u001b[0;34m\u001b[0m\u001b[0;34m\u001b[0m\u001b[0m\n\u001b[1;32m      9\u001b[0m     \u001b[0mPDFs21\u001b[0m\u001b[0;34m.\u001b[0m\u001b[0mappend\u001b[0m\u001b[0;34m(\u001b[0m\u001b[0mquPDFs\u001b[0m\u001b[0;34m(\u001b[0m\u001b[0mvac_state\u001b[0m\u001b[0;34m,\u001b[0m\u001b[0;34m[\u001b[0m\u001b[0;36m2\u001b[0m\u001b[0;34m,\u001b[0m\u001b[0;36m1\u001b[0m\u001b[0;34m]\u001b[0m\u001b[0;34m,\u001b[0m\u001b[0mi\u001b[0m\u001b[0;34m-\u001b[0m\u001b[0mint\u001b[0m\u001b[0;34m(\u001b[0m\u001b[0;34m(\u001b[0m\u001b[0mL\u001b[0m\u001b[0;34m/\u001b[0m\u001b[0;36m2\u001b[0m\u001b[0;34m-\u001b[0m\u001b[0;36m1\u001b[0m\u001b[0;34m)\u001b[0m\u001b[0;34m/\u001b[0m\u001b[0;36m2\u001b[0m\u001b[0;34m)\u001b[0m\u001b[0;34m,\u001b[0m\u001b[0;34m-\u001b[0m\u001b[0mi\u001b[0m\u001b[0;34m+\u001b[0m\u001b[0mint\u001b[0m\u001b[0;34m(\u001b[0m\u001b[0;34m(\u001b[0m\u001b[0mL\u001b[0m\u001b[0;34m/\u001b[0m\u001b[0;36m2\u001b[0m\u001b[0;34m-\u001b[0m\u001b[0;36m1\u001b[0m\u001b[0;34m)\u001b[0m\u001b[0;34m/\u001b[0m\u001b[0;36m2\u001b[0m\u001b[0;34m)\u001b[0m\u001b[0;34m,\u001b[0m\u001b[0;36m0\u001b[0m\u001b[0;34m,\u001b[0m\u001b[0;36m0\u001b[0m\u001b[0;34m)\u001b[0m\u001b[0;34m)\u001b[0m\u001b[0;34m\u001b[0m\u001b[0;34m\u001b[0m\u001b[0m\n",
      "\u001b[0;32m<ipython-input-25-f88c54ab192b>\u001b[0m in \u001b[0;36mquPDFs\u001b[0;34m(psi, index_corr, t1, z1, t2, z2)\u001b[0m\n\u001b[1;32m      4\u001b[0m     \u001b[0mpsi\u001b[0m\u001b[0;34m=\u001b[0m\u001b[0mexpm_multiply_parallel\u001b[0m\u001b[0;34m(\u001b[0m\u001b[0mham\u001b[0m\u001b[0;34m.\u001b[0m\u001b[0mtocsr\u001b[0m\u001b[0;34m(\u001b[0m\u001b[0;34m)\u001b[0m\u001b[0;34m,\u001b[0m\u001b[0ma\u001b[0m\u001b[0;34m=\u001b[0m\u001b[0;34m-\u001b[0m\u001b[0;36m1j\u001b[0m\u001b[0;34m*\u001b[0m\u001b[0mvol\u001b[0m\u001b[0;34m*\u001b[0m\u001b[0mt2\u001b[0m\u001b[0;34m,\u001b[0m\u001b[0mdtype\u001b[0m\u001b[0;34m=\u001b[0m\u001b[0mdtype_cmplx\u001b[0m\u001b[0;34m)\u001b[0m\u001b[0;34m.\u001b[0m\u001b[0mdot\u001b[0m\u001b[0;34m(\u001b[0m\u001b[0mpsi\u001b[0m\u001b[0;34m)\u001b[0m\u001b[0;34m\u001b[0m\u001b[0;34m\u001b[0m\u001b[0m\n\u001b[1;32m      5\u001b[0m     \u001b[0mpsi\u001b[0m\u001b[0;34m=\u001b[0m\u001b[0mstring\u001b[0m\u001b[0;34m(\u001b[0m\u001b[0;36m1\u001b[0m\u001b[0;34m,\u001b[0m\u001b[0;34m'+'\u001b[0m\u001b[0;34m,\u001b[0m\u001b[0;36m2\u001b[0m\u001b[0;34m*\u001b[0m\u001b[0mz2\u001b[0m\u001b[0;34m+\u001b[0m\u001b[0mint\u001b[0m\u001b[0;34m(\u001b[0m\u001b[0mL\u001b[0m\u001b[0;34m/\u001b[0m\u001b[0;36m2\u001b[0m\u001b[0;34m-\u001b[0m\u001b[0;36m1\u001b[0m\u001b[0;34m)\u001b[0m\u001b[0;34m+\u001b[0m\u001b[0;34m(\u001b[0m\u001b[0mindex_corr\u001b[0m\u001b[0;34m[\u001b[0m\u001b[0;36m1\u001b[0m\u001b[0;34m]\u001b[0m\u001b[0;34m+\u001b[0m\u001b[0;36m1\u001b[0m\u001b[0;34m)\u001b[0m\u001b[0;34m%\u001b[0m\u001b[0;36m2\u001b[0m\u001b[0;34m)\u001b[0m\u001b[0;34m.\u001b[0m\u001b[0mdot\u001b[0m\u001b[0;34m(\u001b[0m\u001b[0mpsi\u001b[0m\u001b[0;34m)\u001b[0m\u001b[0;34m\u001b[0m\u001b[0;34m\u001b[0m\u001b[0m\n\u001b[0;32m----> 6\u001b[0;31m     \u001b[0mpsi\u001b[0m\u001b[0;34m=\u001b[0m\u001b[0mexpm_multiply_parallel\u001b[0m\u001b[0;34m(\u001b[0m\u001b[0mham\u001b[0m\u001b[0;34m.\u001b[0m\u001b[0mtocsr\u001b[0m\u001b[0;34m(\u001b[0m\u001b[0;34m)\u001b[0m\u001b[0;34m,\u001b[0m\u001b[0ma\u001b[0m\u001b[0;34m=\u001b[0m\u001b[0;34m-\u001b[0m\u001b[0;36m1j\u001b[0m\u001b[0;34m*\u001b[0m\u001b[0mvol\u001b[0m\u001b[0;34m*\u001b[0m\u001b[0;34m(\u001b[0m\u001b[0mt1\u001b[0m\u001b[0;34m-\u001b[0m\u001b[0mt2\u001b[0m\u001b[0;34m)\u001b[0m\u001b[0;34m,\u001b[0m\u001b[0mdtype\u001b[0m\u001b[0;34m=\u001b[0m\u001b[0mdtype_cmplx\u001b[0m\u001b[0;34m)\u001b[0m\u001b[0;34m.\u001b[0m\u001b[0mdot\u001b[0m\u001b[0;34m(\u001b[0m\u001b[0mpsi\u001b[0m\u001b[0;34m)\u001b[0m\u001b[0;34m\u001b[0m\u001b[0;34m\u001b[0m\u001b[0m\n\u001b[0m\u001b[1;32m      7\u001b[0m     \u001b[0mpsi\u001b[0m\u001b[0;34m=\u001b[0m\u001b[0mstring\u001b[0m\u001b[0;34m(\u001b[0m\u001b[0;36m1\u001b[0m\u001b[0;34m,\u001b[0m\u001b[0;34m'-'\u001b[0m\u001b[0;34m,\u001b[0m\u001b[0;36m2\u001b[0m\u001b[0;34m*\u001b[0m\u001b[0mz1\u001b[0m\u001b[0;34m+\u001b[0m\u001b[0mint\u001b[0m\u001b[0;34m(\u001b[0m\u001b[0mL\u001b[0m\u001b[0;34m/\u001b[0m\u001b[0;36m2\u001b[0m\u001b[0;34m-\u001b[0m\u001b[0;36m1\u001b[0m\u001b[0;34m)\u001b[0m\u001b[0;34m+\u001b[0m\u001b[0;34m(\u001b[0m\u001b[0mindex_corr\u001b[0m\u001b[0;34m[\u001b[0m\u001b[0;36m0\u001b[0m\u001b[0;34m]\u001b[0m\u001b[0;34m+\u001b[0m\u001b[0;36m1\u001b[0m\u001b[0;34m)\u001b[0m\u001b[0;34m%\u001b[0m\u001b[0;36m2\u001b[0m\u001b[0;34m)\u001b[0m\u001b[0;34m.\u001b[0m\u001b[0mdot\u001b[0m\u001b[0;34m(\u001b[0m\u001b[0mpsi\u001b[0m\u001b[0;34m)\u001b[0m\u001b[0;34m\u001b[0m\u001b[0;34m\u001b[0m\u001b[0m\n\u001b[1;32m      8\u001b[0m     \u001b[0mpsi\u001b[0m\u001b[0;34m=\u001b[0m\u001b[0mexpm_multiply_parallel\u001b[0m\u001b[0;34m(\u001b[0m\u001b[0mham\u001b[0m\u001b[0;34m.\u001b[0m\u001b[0mtocsr\u001b[0m\u001b[0;34m(\u001b[0m\u001b[0;34m)\u001b[0m\u001b[0;34m,\u001b[0m\u001b[0ma\u001b[0m\u001b[0;34m=\u001b[0m\u001b[0;36m1j\u001b[0m\u001b[0;34m*\u001b[0m\u001b[0mvol\u001b[0m\u001b[0;34m*\u001b[0m\u001b[0mt1\u001b[0m\u001b[0;34m,\u001b[0m\u001b[0mdtype\u001b[0m\u001b[0;34m=\u001b[0m\u001b[0mdtype_cmplx\u001b[0m\u001b[0;34m)\u001b[0m\u001b[0;34m.\u001b[0m\u001b[0mdot\u001b[0m\u001b[0;34m(\u001b[0m\u001b[0mpsi\u001b[0m\u001b[0;34m)\u001b[0m\u001b[0;34m\u001b[0m\u001b[0;34m\u001b[0m\u001b[0m\n",
      "\u001b[0;32m~/anaconda3/lib/python3.8/site-packages/quspin/tools/expm_multiply_parallel_core/expm_multiply_parallel_core.py\u001b[0m in \u001b[0;36m__init__\u001b[0;34m(self, A, a, dtype, copy)\u001b[0m\n\u001b[1;32m     83\u001b[0m         \u001b[0mself\u001b[0m\u001b[0;34m.\u001b[0m\u001b[0m_mu\u001b[0m \u001b[0;34m=\u001b[0m \u001b[0m_np\u001b[0m\u001b[0;34m.\u001b[0m\u001b[0marray\u001b[0m\u001b[0;34m(\u001b[0m\u001b[0mmu\u001b[0m\u001b[0;34m,\u001b[0m\u001b[0mdtype\u001b[0m\u001b[0;34m=\u001b[0m\u001b[0mself\u001b[0m\u001b[0;34m.\u001b[0m\u001b[0m_dtype\u001b[0m\u001b[0;34m)\u001b[0m\u001b[0;34m\u001b[0m\u001b[0;34m\u001b[0m\u001b[0m\n\u001b[1;32m     84\u001b[0m         \u001b[0mself\u001b[0m\u001b[0;34m.\u001b[0m\u001b[0m_A_1_norm\u001b[0m \u001b[0;34m=\u001b[0m \u001b[0m_wrapper_csr_1_norm\u001b[0m\u001b[0;34m(\u001b[0m\u001b[0mself\u001b[0m\u001b[0;34m.\u001b[0m\u001b[0m_A\u001b[0m\u001b[0;34m.\u001b[0m\u001b[0mindptr\u001b[0m\u001b[0;34m,\u001b[0m\u001b[0mself\u001b[0m\u001b[0;34m.\u001b[0m\u001b[0m_A\u001b[0m\u001b[0;34m.\u001b[0m\u001b[0mindices\u001b[0m\u001b[0;34m,\u001b[0m\u001b[0mself\u001b[0m\u001b[0;34m.\u001b[0m\u001b[0m_A\u001b[0m\u001b[0;34m.\u001b[0m\u001b[0mdata\u001b[0m\u001b[0;34m,\u001b[0m\u001b[0mself\u001b[0m\u001b[0;34m.\u001b[0m\u001b[0m_mu\u001b[0m\u001b[0;34m)\u001b[0m\u001b[0;34m\u001b[0m\u001b[0;34m\u001b[0m\u001b[0m\n\u001b[0;32m---> 85\u001b[0;31m         \u001b[0mself\u001b[0m\u001b[0;34m.\u001b[0m\u001b[0m_calculate_partition\u001b[0m\u001b[0;34m(\u001b[0m\u001b[0;34m)\u001b[0m\u001b[0;34m\u001b[0m\u001b[0;34m\u001b[0m\u001b[0m\n\u001b[0m\u001b[1;32m     86\u001b[0m \u001b[0;34m\u001b[0m\u001b[0m\n\u001b[1;32m     87\u001b[0m         \u001b[0;31m# shift = eye(A.shape[0],format=\"csr\",dtype=A.dtype)\u001b[0m\u001b[0;34m\u001b[0m\u001b[0;34m\u001b[0m\u001b[0;34m\u001b[0m\u001b[0m\n",
      "\u001b[0;32m~/anaconda3/lib/python3.8/site-packages/quspin/tools/expm_multiply_parallel_core/expm_multiply_parallel_core.py\u001b[0m in \u001b[0;36m_calculate_partition\u001b[0;34m(self)\u001b[0m\n\u001b[1;32m    237\u001b[0m             \u001b[0mell\u001b[0m \u001b[0;34m=\u001b[0m \u001b[0;36m2\u001b[0m\u001b[0;34m\u001b[0m\u001b[0;34m\u001b[0m\u001b[0m\n\u001b[1;32m    238\u001b[0m             \u001b[0mnorm_info\u001b[0m \u001b[0;34m=\u001b[0m \u001b[0mLazyOperatorNormInfo\u001b[0m\u001b[0;34m(\u001b[0m\u001b[0mself\u001b[0m\u001b[0;34m.\u001b[0m\u001b[0m_A\u001b[0m\u001b[0;34m,\u001b[0m \u001b[0mself\u001b[0m\u001b[0;34m.\u001b[0m\u001b[0m_A_1_norm\u001b[0m\u001b[0;34m,\u001b[0m \u001b[0mself\u001b[0m\u001b[0;34m.\u001b[0m\u001b[0m_a\u001b[0m\u001b[0;34m,\u001b[0m \u001b[0mself\u001b[0m\u001b[0;34m.\u001b[0m\u001b[0m_mu\u001b[0m\u001b[0;34m,\u001b[0m \u001b[0mself\u001b[0m\u001b[0;34m.\u001b[0m\u001b[0m_dtype\u001b[0m\u001b[0;34m,\u001b[0m \u001b[0mell\u001b[0m\u001b[0;34m=\u001b[0m\u001b[0mell\u001b[0m\u001b[0;34m)\u001b[0m\u001b[0;34m\u001b[0m\u001b[0;34m\u001b[0m\u001b[0m\n\u001b[0;32m--> 239\u001b[0;31m             \u001b[0mself\u001b[0m\u001b[0;34m.\u001b[0m\u001b[0m_m_star\u001b[0m\u001b[0;34m,\u001b[0m \u001b[0mself\u001b[0m\u001b[0;34m.\u001b[0m\u001b[0m_s\u001b[0m \u001b[0;34m=\u001b[0m \u001b[0m_fragment_3_1\u001b[0m\u001b[0;34m(\u001b[0m\u001b[0mnorm_info\u001b[0m\u001b[0;34m,\u001b[0m \u001b[0;36m1\u001b[0m\u001b[0;34m,\u001b[0m \u001b[0mself\u001b[0m\u001b[0;34m.\u001b[0m\u001b[0m_tol\u001b[0m\u001b[0;34m,\u001b[0m \u001b[0mell\u001b[0m\u001b[0;34m=\u001b[0m\u001b[0mell\u001b[0m\u001b[0;34m)\u001b[0m\u001b[0;34m\u001b[0m\u001b[0;34m\u001b[0m\u001b[0m\n\u001b[0m\u001b[1;32m    240\u001b[0m \u001b[0;34m\u001b[0m\u001b[0m\n\u001b[1;32m    241\u001b[0m \u001b[0;34m\u001b[0m\u001b[0m\n",
      "\u001b[0;32m~/anaconda3/lib/python3.8/site-packages/scipy/sparse/linalg/_expm_multiply.py\u001b[0m in \u001b[0;36m_fragment_3_1\u001b[0;34m(norm_info, n0, tol, m_max, ell)\u001b[0m\n\u001b[1;32m    466\u001b[0m             \u001b[0;32mfor\u001b[0m \u001b[0mm\u001b[0m \u001b[0;32min\u001b[0m \u001b[0mrange\u001b[0m\u001b[0;34m(\u001b[0m\u001b[0mp\u001b[0m\u001b[0;34m*\u001b[0m\u001b[0;34m(\u001b[0m\u001b[0mp\u001b[0m\u001b[0;34m-\u001b[0m\u001b[0;36m1\u001b[0m\u001b[0;34m)\u001b[0m\u001b[0;34m-\u001b[0m\u001b[0;36m1\u001b[0m\u001b[0;34m,\u001b[0m \u001b[0mm_max\u001b[0m\u001b[0;34m+\u001b[0m\u001b[0;36m1\u001b[0m\u001b[0;34m)\u001b[0m\u001b[0;34m:\u001b[0m\u001b[0;34m\u001b[0m\u001b[0;34m\u001b[0m\u001b[0m\n\u001b[1;32m    467\u001b[0m                 \u001b[0;32mif\u001b[0m \u001b[0mm\u001b[0m \u001b[0;32min\u001b[0m \u001b[0m_theta\u001b[0m\u001b[0;34m:\u001b[0m\u001b[0;34m\u001b[0m\u001b[0;34m\u001b[0m\u001b[0m\n\u001b[0;32m--> 468\u001b[0;31m                     \u001b[0ms\u001b[0m \u001b[0;34m=\u001b[0m \u001b[0m_compute_cost_div_m\u001b[0m\u001b[0;34m(\u001b[0m\u001b[0mm\u001b[0m\u001b[0;34m,\u001b[0m \u001b[0mp\u001b[0m\u001b[0;34m,\u001b[0m \u001b[0mnorm_info\u001b[0m\u001b[0;34m)\u001b[0m\u001b[0;34m\u001b[0m\u001b[0;34m\u001b[0m\u001b[0m\n\u001b[0m\u001b[1;32m    469\u001b[0m                     \u001b[0;32mif\u001b[0m \u001b[0mbest_m\u001b[0m \u001b[0;32mis\u001b[0m \u001b[0;32mNone\u001b[0m \u001b[0;32mor\u001b[0m \u001b[0mm\u001b[0m \u001b[0;34m*\u001b[0m \u001b[0ms\u001b[0m \u001b[0;34m<\u001b[0m \u001b[0mbest_m\u001b[0m \u001b[0;34m*\u001b[0m \u001b[0mbest_s\u001b[0m\u001b[0;34m:\u001b[0m\u001b[0;34m\u001b[0m\u001b[0;34m\u001b[0m\u001b[0m\n\u001b[1;32m    470\u001b[0m                         \u001b[0mbest_m\u001b[0m \u001b[0;34m=\u001b[0m \u001b[0mm\u001b[0m\u001b[0;34m\u001b[0m\u001b[0;34m\u001b[0m\u001b[0m\n",
      "\u001b[0;32m~/anaconda3/lib/python3.8/site-packages/scipy/sparse/linalg/_expm_multiply.py\u001b[0m in \u001b[0;36m_compute_cost_div_m\u001b[0;34m(m, p, norm_info)\u001b[0m\n\u001b[1;32m    395\u001b[0m \u001b[0;34m\u001b[0m\u001b[0m\n\u001b[1;32m    396\u001b[0m     \"\"\"\n\u001b[0;32m--> 397\u001b[0;31m     \u001b[0;32mreturn\u001b[0m \u001b[0mint\u001b[0m\u001b[0;34m(\u001b[0m\u001b[0mnp\u001b[0m\u001b[0;34m.\u001b[0m\u001b[0mceil\u001b[0m\u001b[0;34m(\u001b[0m\u001b[0mnorm_info\u001b[0m\u001b[0;34m.\u001b[0m\u001b[0malpha\u001b[0m\u001b[0;34m(\u001b[0m\u001b[0mp\u001b[0m\u001b[0;34m)\u001b[0m \u001b[0;34m/\u001b[0m \u001b[0m_theta\u001b[0m\u001b[0;34m[\u001b[0m\u001b[0mm\u001b[0m\u001b[0;34m]\u001b[0m\u001b[0;34m)\u001b[0m\u001b[0;34m)\u001b[0m\u001b[0;34m\u001b[0m\u001b[0;34m\u001b[0m\u001b[0m\n\u001b[0m\u001b[1;32m    398\u001b[0m \u001b[0;34m\u001b[0m\u001b[0m\n\u001b[1;32m    399\u001b[0m \u001b[0;34m\u001b[0m\u001b[0m\n",
      "\u001b[0;32m~/anaconda3/lib/python3.8/site-packages/quspin/tools/expm_multiply_parallel_core/expm_multiply_parallel_core.py\u001b[0m in \u001b[0;36malpha\u001b[0;34m(self, p)\u001b[0m\n\u001b[1;32m    309\u001b[0m         \u001b[0mLazily\u001b[0m \u001b[0mcompute\u001b[0m \u001b[0mmax\u001b[0m\u001b[0;34m(\u001b[0m\u001b[0md\u001b[0m\u001b[0;34m(\u001b[0m\u001b[0mp\u001b[0m\u001b[0;34m)\u001b[0m\u001b[0;34m,\u001b[0m \u001b[0md\u001b[0m\u001b[0;34m(\u001b[0m\u001b[0mp\u001b[0m\u001b[0;34m+\u001b[0m\u001b[0;36m1\u001b[0m\u001b[0;34m)\u001b[0m\u001b[0;34m)\u001b[0m\u001b[0;34m.\u001b[0m\u001b[0;34m\u001b[0m\u001b[0;34m\u001b[0m\u001b[0m\n\u001b[1;32m    310\u001b[0m         \"\"\"\n\u001b[0;32m--> 311\u001b[0;31m         \u001b[0;32mreturn\u001b[0m \u001b[0mmax\u001b[0m\u001b[0;34m(\u001b[0m\u001b[0mself\u001b[0m\u001b[0;34m.\u001b[0m\u001b[0md\u001b[0m\u001b[0;34m(\u001b[0m\u001b[0mp\u001b[0m\u001b[0;34m)\u001b[0m\u001b[0;34m,\u001b[0m \u001b[0mself\u001b[0m\u001b[0;34m.\u001b[0m\u001b[0md\u001b[0m\u001b[0;34m(\u001b[0m\u001b[0mp\u001b[0m\u001b[0;34m+\u001b[0m\u001b[0;36m1\u001b[0m\u001b[0;34m)\u001b[0m\u001b[0;34m)\u001b[0m\u001b[0;34m\u001b[0m\u001b[0;34m\u001b[0m\u001b[0m\n\u001b[0m\u001b[1;32m    312\u001b[0m \u001b[0;34m\u001b[0m\u001b[0m\n\u001b[1;32m    313\u001b[0m \u001b[0;34m\u001b[0m\u001b[0m\n",
      "\u001b[0;32m~/anaconda3/lib/python3.8/site-packages/quspin/tools/expm_multiply_parallel_core/expm_multiply_parallel_core.py\u001b[0m in \u001b[0;36md\u001b[0;34m(self, p)\u001b[0m\n\u001b[1;32m    298\u001b[0m             \u001b[0mLO\u001b[0m \u001b[0;34m=\u001b[0m \u001b[0mLinearOperator\u001b[0m\u001b[0;34m(\u001b[0m\u001b[0mself\u001b[0m\u001b[0;34m.\u001b[0m\u001b[0m_A\u001b[0m\u001b[0;34m.\u001b[0m\u001b[0mshape\u001b[0m\u001b[0;34m,\u001b[0m\u001b[0mdtype\u001b[0m\u001b[0;34m=\u001b[0m\u001b[0mself\u001b[0m\u001b[0;34m.\u001b[0m\u001b[0m_dtype\u001b[0m\u001b[0;34m,\u001b[0m\u001b[0mmatvec\u001b[0m\u001b[0;34m=\u001b[0m\u001b[0mmatvec\u001b[0m\u001b[0;34m,\u001b[0m\u001b[0mrmatvec\u001b[0m\u001b[0;34m=\u001b[0m\u001b[0mrmatvec\u001b[0m\u001b[0;34m)\u001b[0m\u001b[0;34m\u001b[0m\u001b[0;34m\u001b[0m\u001b[0m\n\u001b[1;32m    299\u001b[0m \u001b[0;34m\u001b[0m\u001b[0m\n\u001b[0;32m--> 300\u001b[0;31m             \u001b[0mest\u001b[0m \u001b[0;34m=\u001b[0m \u001b[0monenormest\u001b[0m\u001b[0;34m(\u001b[0m\u001b[0mLO\u001b[0m\u001b[0;34m**\u001b[0m\u001b[0mp\u001b[0m\u001b[0;34m)\u001b[0m\u001b[0;34m\u001b[0m\u001b[0;34m\u001b[0m\u001b[0m\n\u001b[0m\u001b[1;32m    301\u001b[0m \u001b[0;34m\u001b[0m\u001b[0m\n\u001b[1;32m    302\u001b[0m             \u001b[0;31m# est = onenormest((self._a * aslinearoperator(self._A))**p)\u001b[0m\u001b[0;34m\u001b[0m\u001b[0;34m\u001b[0m\u001b[0;34m\u001b[0m\u001b[0m\n",
      "\u001b[0;32m~/anaconda3/lib/python3.8/site-packages/scipy/sparse/linalg/_onenormest.py\u001b[0m in \u001b[0;36monenormest\u001b[0;34m(A, t, itmax, compute_v, compute_w)\u001b[0m\n\u001b[1;32m    104\u001b[0m         \u001b[0mest\u001b[0m \u001b[0;34m=\u001b[0m \u001b[0mcol_abs_sums\u001b[0m\u001b[0;34m[\u001b[0m\u001b[0margmax_j\u001b[0m\u001b[0;34m]\u001b[0m\u001b[0;34m\u001b[0m\u001b[0;34m\u001b[0m\u001b[0m\n\u001b[1;32m    105\u001b[0m     \u001b[0;32melse\u001b[0m\u001b[0;34m:\u001b[0m\u001b[0;34m\u001b[0m\u001b[0;34m\u001b[0m\u001b[0m\n\u001b[0;32m--> 106\u001b[0;31m         \u001b[0mest\u001b[0m\u001b[0;34m,\u001b[0m \u001b[0mv\u001b[0m\u001b[0;34m,\u001b[0m \u001b[0mw\u001b[0m\u001b[0;34m,\u001b[0m \u001b[0mnmults\u001b[0m\u001b[0;34m,\u001b[0m \u001b[0mnresamples\u001b[0m \u001b[0;34m=\u001b[0m \u001b[0m_onenormest_core\u001b[0m\u001b[0;34m(\u001b[0m\u001b[0mA\u001b[0m\u001b[0;34m,\u001b[0m \u001b[0mA\u001b[0m\u001b[0;34m.\u001b[0m\u001b[0mH\u001b[0m\u001b[0;34m,\u001b[0m \u001b[0mt\u001b[0m\u001b[0;34m,\u001b[0m \u001b[0mitmax\u001b[0m\u001b[0;34m)\u001b[0m\u001b[0;34m\u001b[0m\u001b[0;34m\u001b[0m\u001b[0m\n\u001b[0m\u001b[1;32m    107\u001b[0m \u001b[0;34m\u001b[0m\u001b[0m\n\u001b[1;32m    108\u001b[0m     \u001b[0;31m# Report the norm estimate along with some certificates of the estimate.\u001b[0m\u001b[0;34m\u001b[0m\u001b[0;34m\u001b[0m\u001b[0;34m\u001b[0m\u001b[0m\n",
      "\u001b[0;32m~/anaconda3/lib/python3.8/site-packages/scipy/sparse/linalg/_onenormest.py\u001b[0m in \u001b[0;36m_onenormest_core\u001b[0;34m(A, AT, t, itmax)\u001b[0m\n\u001b[1;32m    419\u001b[0m         \u001b[0;32mif\u001b[0m \u001b[0mk\u001b[0m \u001b[0;34m>\u001b[0m \u001b[0mitmax\u001b[0m\u001b[0;34m:\u001b[0m\u001b[0;34m\u001b[0m\u001b[0;34m\u001b[0m\u001b[0m\n\u001b[1;32m    420\u001b[0m             \u001b[0;32mbreak\u001b[0m\u001b[0;34m\u001b[0m\u001b[0;34m\u001b[0m\u001b[0m\n\u001b[0;32m--> 421\u001b[0;31m         \u001b[0mS\u001b[0m \u001b[0;34m=\u001b[0m \u001b[0msign_round_up\u001b[0m\u001b[0;34m(\u001b[0m\u001b[0mY\u001b[0m\u001b[0;34m)\u001b[0m\u001b[0;34m\u001b[0m\u001b[0;34m\u001b[0m\u001b[0m\n\u001b[0m\u001b[1;32m    422\u001b[0m         \u001b[0;32mdel\u001b[0m \u001b[0mY\u001b[0m\u001b[0;34m\u001b[0m\u001b[0;34m\u001b[0m\u001b[0m\n\u001b[1;32m    423\u001b[0m         \u001b[0;31m# (2)\u001b[0m\u001b[0;34m\u001b[0m\u001b[0;34m\u001b[0m\u001b[0;34m\u001b[0m\u001b[0m\n",
      "\u001b[0;32m~/anaconda3/lib/python3.8/site-packages/scipy/sparse/linalg/_onenormest.py\u001b[0m in \u001b[0;36mwrapper\u001b[0;34m(x)\u001b[0m\n\u001b[1;32m    127\u001b[0m     \u001b[0;32mdef\u001b[0m \u001b[0mwrapper\u001b[0m\u001b[0;34m(\u001b[0m\u001b[0mx\u001b[0m\u001b[0;34m)\u001b[0m\u001b[0;34m:\u001b[0m\u001b[0;34m\u001b[0m\u001b[0;34m\u001b[0m\u001b[0m\n\u001b[1;32m    128\u001b[0m         \u001b[0;32mif\u001b[0m \u001b[0mx\u001b[0m\u001b[0;34m.\u001b[0m\u001b[0mshape\u001b[0m\u001b[0;34m[\u001b[0m\u001b[0;36m0\u001b[0m\u001b[0;34m]\u001b[0m \u001b[0;34m<\u001b[0m \u001b[0mblock_size\u001b[0m\u001b[0;34m:\u001b[0m\u001b[0;34m\u001b[0m\u001b[0;34m\u001b[0m\u001b[0m\n\u001b[0;32m--> 129\u001b[0;31m             \u001b[0;32mreturn\u001b[0m \u001b[0mfunc\u001b[0m\u001b[0;34m(\u001b[0m\u001b[0mx\u001b[0m\u001b[0;34m)\u001b[0m\u001b[0;34m\u001b[0m\u001b[0;34m\u001b[0m\u001b[0m\n\u001b[0m\u001b[1;32m    130\u001b[0m         \u001b[0;32melse\u001b[0m\u001b[0;34m:\u001b[0m\u001b[0;34m\u001b[0m\u001b[0;34m\u001b[0m\u001b[0m\n\u001b[1;32m    131\u001b[0m             \u001b[0my0\u001b[0m \u001b[0;34m=\u001b[0m \u001b[0mfunc\u001b[0m\u001b[0;34m(\u001b[0m\u001b[0mx\u001b[0m\u001b[0;34m[\u001b[0m\u001b[0;34m:\u001b[0m\u001b[0mblock_size\u001b[0m\u001b[0;34m]\u001b[0m\u001b[0;34m)\u001b[0m\u001b[0;34m\u001b[0m\u001b[0;34m\u001b[0m\u001b[0m\n",
      "\u001b[0;32m~/anaconda3/lib/python3.8/site-packages/scipy/sparse/linalg/_onenormest.py\u001b[0m in \u001b[0;36msign_round_up\u001b[0;34m(X)\u001b[0m\n\u001b[1;32m    151\u001b[0m     \"\"\"\n\u001b[1;32m    152\u001b[0m     \u001b[0mY\u001b[0m \u001b[0;34m=\u001b[0m \u001b[0mX\u001b[0m\u001b[0;34m.\u001b[0m\u001b[0mcopy\u001b[0m\u001b[0;34m(\u001b[0m\u001b[0;34m)\u001b[0m\u001b[0;34m\u001b[0m\u001b[0;34m\u001b[0m\u001b[0m\n\u001b[0;32m--> 153\u001b[0;31m     \u001b[0mY\u001b[0m\u001b[0;34m[\u001b[0m\u001b[0mY\u001b[0m \u001b[0;34m==\u001b[0m \u001b[0;36m0\u001b[0m\u001b[0;34m]\u001b[0m \u001b[0;34m=\u001b[0m \u001b[0;36m1\u001b[0m\u001b[0;34m\u001b[0m\u001b[0;34m\u001b[0m\u001b[0m\n\u001b[0m\u001b[1;32m    154\u001b[0m     \u001b[0mY\u001b[0m \u001b[0;34m/=\u001b[0m \u001b[0mnp\u001b[0m\u001b[0;34m.\u001b[0m\u001b[0mabs\u001b[0m\u001b[0;34m(\u001b[0m\u001b[0mY\u001b[0m\u001b[0;34m)\u001b[0m\u001b[0;34m\u001b[0m\u001b[0;34m\u001b[0m\u001b[0m\n\u001b[1;32m    155\u001b[0m     \u001b[0;32mreturn\u001b[0m \u001b[0mY\u001b[0m\u001b[0;34m\u001b[0m\u001b[0;34m\u001b[0m\u001b[0m\n",
      "\u001b[0;31mKeyboardInterrupt\u001b[0m: "
     ]
    }
   ],
   "source": [
    "#compute the position space PDF\n",
    "PDFs11=[]\n",
    "PDFs12=[]\n",
    "PDFs21=[]\n",
    "PDFs22=[]\n",
    "for i in range(int(L/2)):\n",
    "    PDFs11.append(quPDFs(vac_state,[1,1],i-int((L/2-1)/2),-i+int((L/2-1)/2),0,0))\n",
    "    PDFs12.append(quPDFs(vac_state,[1,2],i-int((L/2-1)/2),-i+int((L/2-1)/2),0,0))\n",
    "    PDFs21.append(quPDFs(vac_state,[2,1],i-int((L/2-1)/2),-i+int((L/2-1)/2),0,0))\n",
    "    PDFs22.append(quPDFs(vac_state,[2,2],i-int((L/2-1)/2),-i+int((L/2-1)/2),0,0))\n",
    "\n",
    "PDFs=np.array(PDFs11)+np.array(PDFs12)+np.array(PDFs21)+np.array(PDFs22)"
   ]
  },
  {
   "cell_type": "markdown",
   "metadata": {},
   "source": [
    "#### Fit the PDFs on quantum computer"
   ]
  },
  {
   "cell_type": "code",
   "execution_count": null,
   "metadata": {},
   "outputs": [],
   "source": [
    "#interpolate the position space PDFs\n",
    "Re_data=np.real(PDFs)\n",
    "Im_data=np.imag(PDFs)\n",
    "ym=np.linspace(-(L/2-1)/2,(L/2-1)/2,int(L/2))\n",
    "coti_ym=np.linspace(-(L/2-1)/2,(L/2-1)/2,1000)\n",
    "fun_Re_inpol=interpolate.interp1d(ym,Re_data,kind=\"quadratic\")\n",
    "fun_Im_inpol=interpolate.interp1d(ym,Im_data,kind=\"quadratic\")\n",
    "num_Re_inpol=fun_Re_inpol(coti_ym)\n",
    "num_Im_inpol=fun_Im_inpol(coti_ym)"
   ]
  },
  {
   "cell_type": "code",
   "execution_count": null,
   "metadata": {},
   "outputs": [
    {
     "data": {
      "image/png": "[encoded data removed]",
      "text/plain": [
       "<Figure size 432x288 with 1 Axes>"
      ]
     },
     "metadata": {
      "needs_background": "light"
     },
     "output_type": "display_data"
    }
   ],
   "source": [
    "plot1 = plt.plot(ym, Re_data, 's',label='original values')\n",
    "plot2 = plt.plot(coti_ym, num_Re_inpol, 'r',label='interpolate values')\n",
    "plt.xlabel('$y^-$')\n",
    "plt.ylabel('$ReD(y^-)$')\n",
    "plt.legend(loc=\"upper right\")\n",
    "plt.title('Re_interpolate')\n",
    "plt.show()"
   ]
  },
  {
   "cell_type": "code",
   "execution_count": null,
   "metadata": {},
   "outputs": [
    {
     "data": {
      "image/png": "[encoded data removed]",
      "text/plain": [
       "<Figure size 432x288 with 1 Axes>"
      ]
     },
     "metadata": {
      "needs_background": "light"
     },
     "output_type": "display_data"
    }
   ],
   "source": [
    "plot1 = plt.plot(ym, Im_data, 's',label='original values')\n",
    "plot2 = plt.plot(coti_ym, num_Im_inpol, 'r',label='interpolate values')\n",
    "plt.xlabel('$y^-$')\n",
    "plt.ylabel('$ImD(y^-)$')\n",
    "plt.legend(loc=\"upper right\")\n",
    "plt.title('Im_interpolate')\n",
    "plt.show()"
   ]
  },
  {
   "cell_type": "code",
   "execution_count": null,
   "metadata": {},
   "outputs": [],
   "source": [
    "np.savetxt(fname='/home/lty/yin_research/NJL_PDF_code/NJL_PDF_result/QC-posN18ma08g1_vac.txt',X=Re_data+1j*Im_data)"
   ]
  }
 ],
 "metadata": {
  "kernelspec": {
   "display_name": "njl",
   "language": "python",
   "name": "python3"
  },
  "language_info": {
   "codemirror_mode": {
    "name": "ipython",
    "version": 3
   },
   "file_extension": ".py",
   "mimetype": "text/x-python",
   "name": "python",
   "nbconvert_exporter": "python",
   "pygments_lexer": "ipython3",
   "version": "3.8.16"
  },
  "vscode": {
   "interpreter": {
    "hash": "b78861a3b5014c0b5e15b4a44d3f0411bec7238f0280f34a31a1899dd3a3f4b6"
   }
  }
 },
 "nbformat": 4,
 "nbformat_minor": 4
}
