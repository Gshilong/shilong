{
 "cells": [
  {
   "cell_type": "code",
   "execution_count": 1,
   "metadata": {},
   "outputs": [],
   "source": [
    "from quspin.operators import hamiltonian,exp_op,quantum_operator # Hamiltonians and operators\n",
    "from quspin.basis import spinless_fermion_basis_1d, spin_basis_1d # Hilbert space fermion basis\n",
    "from quspin.tools.block_tools import block_diag_hamiltonian # block diagonalisation\n",
    "from quspin.tools.measurements import ED_state_vs_time\n",
    "from quspin.tools.evolution import expm_multiply_parallel\n",
    "from scipy.optimize import minimize_scalar,minimize,basinhopping, shgo, differential_evolution\n",
    "import numpy as np # generic math functions\n",
    "import numba as nb\n",
    "import matplotlib.pyplot as plt # plotting library\n",
    "import copy\n",
    "import matplotlib.pyplot as pl\n",
    "import scipy\n",
    "from scipy import sparse, interpolate\n",
    "import sys,os"
   ]
  },
  {
   "cell_type": "code",
   "execution_count": 2,
   "metadata": {},
   "outputs": [],
   "source": [
    "os.environ['KMP_DUPLICATE_LIB_OK']='True' # uncomment this line if omp error occurs on OSX for python 3\n",
    "os.environ['OMP_NUM_THREADS']='16' # set number of OpenMP threads to run in parallel\n",
    "os.environ['MKL_NUM_THREADS']='16' # set number of MKL threads to run in parallel\n",
    "dtype_real = np.float64\n",
    "dtype_cmplx = np.result_type(dtype_real,np.complex64)"
   ]
  },
  {
   "cell_type": "code",
   "execution_count": 3,
   "metadata": {},
   "outputs": [],
   "source": [
    "L=18\n",
    "#m=1.0471975511965976\n",
    "m=0.8\n",
    "g=1\n",
    "a=1\n",
    "hop=1\n",
    "r=0.4\n",
    "layers=int(L/2)\n",
    "psi=np.zeros(2**L,dtype=np.complex128)\n",
    "vac=np.zeros(2**L,dtype=np.complex128)\n",
    "charge=int(L/2)\n",
    "length=int(np.math.factorial(L)/(np.math.factorial(L-charge)*np.math.factorial(charge)))"
   ]
  },
  {
   "cell_type": "code",
   "execution_count": 4,
   "metadata": {},
   "outputs": [],
   "source": [
    "def bins(n,L):\n",
    "    bins=[str(int(j)) for j in bin(n)[2:]]\n",
    "    bins=''.join(bins)\n",
    "    l=L-len(bins)\n",
    "    zbins=[str(0) for x in range (0,l)]\n",
    "    zbins=''.join(zbins)\n",
    "    zbins=''.join([zbins,bins])\n",
    "    return zbins\n",
    "\n",
    "def counting(state):\n",
    "    odd=0\n",
    "    even=0\n",
    "    positionF=[]\n",
    "    positionAF=[]\n",
    "    num=list(state)\n",
    "    for i in range(0,len(num),2):\n",
    "        if num[i]==\"1\":\n",
    "            positionF.append(int(i/2))\n",
    "            even=even+1\n",
    "    for i in range(1,len(num)+1,2):\n",
    "        if num[i]==\"0\":\n",
    "            positionAF.append(int((i-1)/2))\n",
    "            odd=odd+1\n",
    "    return even,odd,positionF,positionAF"
   ]
  },
  {
   "cell_type": "code",
   "execution_count": 5,
   "metadata": {},
   "outputs": [],
   "source": [
    "def sigma(sym,pos):\n",
    "    basis=spin_basis_1d(L=L,pauli=-1)\n",
    "    sigma_list=[[1,pos]]\n",
    "    static_sigma=[[sym,sigma_list]]\n",
    "    sigma=hamiltonian(static_sigma,dynamic,basis=basis,dtype=np.complex128,check_symm=False, check_herm=False, check_pcon=False)\n",
    "    return sigma"
   ]
  },
  {
   "cell_type": "code",
   "execution_count": 6,
   "metadata": {},
   "outputs": [],
   "source": [
    "#boundary term of ham\n",
    "def boundary(sym_i,sym_j,i,j):\n",
    "    string=[]\n",
    "    pos=[]\n",
    "    string.append(sym_i)\n",
    "    for k in range(i+1,j):\n",
    "        string.append('z')\n",
    "    string.append(sym_j)\n",
    "    string=''.join(string)\n",
    "    for k in range(i,j+1):\n",
    "        pos.append(k)\n",
    "    return string,pos"
   ]
  },
  {
   "cell_type": "code",
   "execution_count": 7,
   "metadata": {},
   "outputs": [
    {
     "name": "stdout",
     "output_type": "stream",
     "text": [
      "Hermiticity check passed!\n"
     ]
    },
    {
     "name": "stderr",
     "output_type": "stream",
     "text": [
      "C:\\Users\\shilong\\AppData\\Local\\Temp\\ipykernel_45332\\1621243830.py:25: UserWarning: Test for symmetries not implemented for <class 'quspin.basis.basis_1d.spin.spin_basis_1d'>, to turn off this warning set check_symm=False in hamiltonian\n",
      "  hxyodd=hamiltonian(static_hxyodd,dynamic,basis=basis1,dtype=np.complex128)\n"
     ]
    },
    {
     "name": "stdout",
     "output_type": "stream",
     "text": [
      "Hermiticity check passed!\n"
     ]
    },
    {
     "name": "stderr",
     "output_type": "stream",
     "text": [
      "C:\\Users\\shilong\\AppData\\Local\\Temp\\ipykernel_45332\\1621243830.py:26: UserWarning: Test for symmetries not implemented for <class 'quspin.basis.basis_1d.spin.spin_basis_1d'>, to turn off this warning set check_symm=False in hamiltonian\n",
      "  hxyeven=hamiltonian(static_hxyeven,dynamic,basis=basis1,dtype=np.complex128)\n"
     ]
    },
    {
     "name": "stdout",
     "output_type": "stream",
     "text": [
      "Hermiticity check passed!\n"
     ]
    },
    {
     "name": "stderr",
     "output_type": "stream",
     "text": [
      "C:\\Users\\shilong\\AppData\\Local\\Temp\\ipykernel_45332\\1621243830.py:27: UserWarning: Test for symmetries not implemented for <class 'quspin.basis.basis_1d.spin.spin_basis_1d'>, to turn off this warning set check_symm=False in hamiltonian\n",
      "  hzz=hamiltonian(static_hzz,dynamic,basis=basis1,dtype=np.complex128)#*(1/g)\n"
     ]
    },
    {
     "name": "stdout",
     "output_type": "stream",
     "text": [
      "Hermiticity check passed!\n"
     ]
    },
    {
     "name": "stderr",
     "output_type": "stream",
     "text": [
      "C:\\Users\\shilong\\AppData\\Local\\Temp\\ipykernel_45332\\1621243830.py:28: UserWarning: Test for symmetries not implemented for <class 'quspin.basis.basis_1d.spin.spin_basis_1d'>, to turn off this warning set check_symm=False in hamiltonian\n",
      "  hz=hamiltonian(static_hz,dynamic,basis=basis1,dtype=np.complex128)\n"
     ]
    },
    {
     "name": "stdout",
     "output_type": "stream",
     "text": [
      "Hermiticity check passed!\n"
     ]
    },
    {
     "name": "stderr",
     "output_type": "stream",
     "text": [
      "C:\\Users\\shilong\\AppData\\Local\\Temp\\ipykernel_45332\\1621243830.py:29: UserWarning: Test for symmetries not implemented for <class 'quspin.basis.basis_1d.spin.spin_basis_1d'>, to turn off this warning set check_symm=False in hamiltonian\n",
      "  ham=hamiltonian(static_ham,dynamic,basis=basis1,dtype=np.complex128)\n"
     ]
    }
   ],
   "source": [
    "#set the H=H1+...+H4\n",
    "basis1=spin_basis_1d(L=L,pauli=-1)\n",
    "hyx_even=[[-1/4,2*i,2*i+1] for i in range(int(L/2))]\n",
    "hxy_even=[[1/4,2*i,2*i+1] for i in range(int(L/2))]\n",
    "hyx_odd=[[-1/4,2*i+1,2*i+2] for i in range(int(L/2)-1)]\n",
    "hxy_odd=[[1/4,2*i+1,2*i+2] for i in range(int(L/2)-1)]\n",
    "boundary_term1=[[-1/4]+boundary('x','y',0,L-1)[1]]\n",
    "boundary_term2=[[1/4]+boundary('y','x',0,L-1)[1]]\n",
    "hzz=[[g/2,2*i,2*i+1] for i in range(int(L/2))]\n",
    "hz=[[-(m/2+r/2)*(-1)**i,i] for i in range(L)]\n",
    "hI=[[-g/2,2*i] for i in range(int(L/2))]\n",
    "hWxx_even=[[-r/4,2*i,2*i+1,2*i+2] for i in range(int(L/2)-1)]\n",
    "hWxx_odd=[[r/4,2*i+1,2*i+2,2*i+3] for i in range(int(L/2)-1)]\n",
    "#hWz=[[-(-1)**i*r/2,i] for i in range(L)]\n",
    "hWb1=[[-r/4]+boundary('x','x',0,L-2)[1]]\n",
    "hWb2=[[r/4]+boundary('x','x',1,L-1)[1]]\n",
    "static_hxyeven=[['yx',hyx_even],['xy',hxy_even],['xzx',hWxx_even],['yzy',hWxx_even],[boundary('x','x',0,L-2)[0],hWb1],[boundary('y','y',0,L-2)[0],hWb1]]\n",
    "static_hxyodd=[['yx',hyx_odd],['xy',hxy_odd],['xzx',hWxx_odd],['yzy',hWxx_odd],[boundary('x','x',1,L-1)[0],hWb2],[boundary('y','y',1,L-1)[0],hWb2],[boundary('x','y',0,L-1)[0],boundary_term1],[boundary('y','x',0,L-1)[0],boundary_term2]]\n",
    "static_hzz=[['zz',hzz]]\n",
    "static_hz=[['z',hz]]\n",
    "static_hI=[['I',hI]]\n",
    "#static_hW=[['xzx',hWxx],['yzy',hWyy],['z',hWz],[boundary('x','x',0,L-2)[0],hWb1],[boundary('y','y',0,L-2)[0],hWb1],[boundary('x','x',1,L-1)[0],hWb2],[boundary('y','y',1,L-1)[0],hWb2]]\n",
    "static_ham=static_hxyeven+static_hxyodd+static_hzz+static_hz+static_hI#+static_hW\n",
    "dynamic=[]\n",
    "hxyodd=hamiltonian(static_hxyodd,dynamic,basis=basis1,dtype=np.complex128)\n",
    "hxyeven=hamiltonian(static_hxyeven,dynamic,basis=basis1,dtype=np.complex128)\n",
    "hzz=hamiltonian(static_hzz,dynamic,basis=basis1,dtype=np.complex128)#*(1/g)\n",
    "hz=hamiltonian(static_hz,dynamic,basis=basis1,dtype=np.complex128)\n",
    "ham=hamiltonian(static_ham,dynamic,basis=basis1,dtype=np.complex128)"
   ]
  },
  {
   "cell_type": "code",
   "execution_count": 8,
   "metadata": {},
   "outputs": [],
   "source": [
    "E0,V0=ham.eigsh(which='SA',k=1)"
   ]
  },
  {
   "cell_type": "code",
   "execution_count": 9,
   "metadata": {},
   "outputs": [
    {
     "name": "stdout",
     "output_type": "stream",
     "text": [
      "Hermiticity check passed!\n",
      "Particle conservation check passed!\n"
     ]
    },
    {
     "name": "stderr",
     "output_type": "stream",
     "text": [
      "C:\\Users\\shilong\\AppData\\Local\\Temp\\ipykernel_45332\\3221134857.py:2: UserWarning: Test for symmetries not implemented for <class 'quspin.basis.basis_1d.spin.spin_basis_1d'>, to turn off this warning set check_symm=False in hamiltonian\n",
      "  sub_ham=hamiltonian(static_ham,dynamic,basis=basis2,dtype=np.complex128)\n"
     ]
    }
   ],
   "source": [
    "basis2=spin_basis_1d(L=L,Nup=int(L/2),pauli=-1)\n",
    "sub_ham=hamiltonian(static_ham,dynamic,basis=basis2,dtype=np.complex128)"
   ]
  },
  {
   "cell_type": "code",
   "execution_count": 10,
   "metadata": {},
   "outputs": [],
   "source": [
    "p=1\n",
    "E,V=sub_ham.eigsh(which='SA',k=2)\n",
    "for i in range(length):\n",
    "    psi[2**L-1-basis2[i]]=V[:,p][i]\n",
    "    vac[2**L-1-basis2[i]]=V[:,0][i]"
   ]
  },
  {
   "cell_type": "code",
   "execution_count": 11,
   "metadata": {},
   "outputs": [
    {
     "name": "stdout",
     "output_type": "stream",
     "text": [
      "[0.0, 2.37955607692286]\n"
     ]
    }
   ],
   "source": [
    "eng=[]\n",
    "for i in range(len(E)):\n",
    "    eng.append(E[i]-E[0])\n",
    "print(eng)"
   ]
  },
  {
   "cell_type": "code",
   "execution_count": 12,
   "metadata": {},
   "outputs": [],
   "source": [
    "def psi0():\n",
    "    ini_state1=np.zeros((2**L,1),dtype=np.complex128)[:,0]\n",
    "    ini_state2=np.zeros((2**L,1),dtype=np.complex128)[:,0]\n",
    "    for i in range(2**(L)):\n",
    "        if counting(bins(2**L-1-i,L))[0]==1 and counting(bins(2**L-1-i,L))[1]==1 and counting(bins(2**L-1-i,L))[2]==counting(bins(2**L-1-i,L))[3]:\n",
    "            ini_state1[i]=1\n",
    "        if counting(bins(2**L-1-i,L))[0]==0 and counting(bins(2**L-1-i,L))[1]==0:\n",
    "            ini_state2[i]=1\n",
    "    \n",
    "    ini_state1=ini_state1/np.linalg.norm(ini_state1)\n",
    "    return ini_state2,ini_state1"
   ]
  },
  {
   "cell_type": "code",
   "execution_count": 13,
   "metadata": {},
   "outputs": [],
   "source": [
    "def QAOA_state(psi0,layers,parameters):\n",
    "    evo=[]\n",
    "    for i in range(layers):\n",
    "        evo.append(expm_multiply_parallel(hxyeven.tocsr(),a=-1j*parameters[4*i],dtype=dtype_cmplx))\n",
    "        evo.append(expm_multiply_parallel(hzz.tocsr(),a=-1j*parameters[4*i+1],dtype=dtype_cmplx))\n",
    "        evo.append(expm_multiply_parallel(hxyodd.tocsr(),a=-1j*parameters[4*i+2],dtype=dtype_cmplx))\n",
    "        evo.append(expm_multiply_parallel(hz.tocsr(),a=-1j*parameters[4*i+3],dtype=dtype_cmplx))\n",
    "    for i in range(len(parameters)):\n",
    "        psi0=evo[i].dot(psi0)\n",
    "    eng=np.real(np.dot(np.conjugate(psi0),ham.dot(psi0)))\n",
    "    return psi0,eng"
   ]
  },
  {
   "cell_type": "code",
   "execution_count": 14,
   "metadata": {},
   "outputs": [],
   "source": [
    "psi1=psi0()[0]\n",
    "psi2=psi0()[1]\n",
    "def object_fun(parameters):\n",
    "    fun=QAOA_state(psi1,layers,parameters)[1]+0.5*QAOA_state(psi2,layers,parameters)[1]\n",
    "    return fun"
   ]
  },
  {
   "cell_type": "code",
   "execution_count": 15,
   "metadata": {},
   "outputs": [],
   "source": [
    "def VQE():\n",
    "    #params = np.zeros((1,4*layers))[0]\n",
    "    params = np.random.rand(4*layers)\n",
    "    #params = [1.5874826181603343, -5.764980554229284, 3.180451162142225, 0.7801325877748178, 1.821616907196922, -0.002245791631400766, 5.76816210716024, -1.566612409007393, 1.5045064941759985, 0.0021317067796131346, 3.159105695760915, -0.028697078164330293, 4.088198767433721, 0.0167910172839104, 0.5638924594820393, 0.7838691686051756, 1.9507594097009515, 1.0293042445602825, 0.3953247774571321, 0.7840586777043385]\n",
    "    optimizer = scipy.optimize.minimize(fun=object_fun, x0=params, method='BFGS', options={'gtol': 1e-05, 'eps': 1e-08, 'disp': True})\n",
    "    return optimizer.x.tolist()"
   ]
  },
  {
   "cell_type": "code",
   "execution_count": 16,
   "metadata": {
    "collapsed": true,
    "jupyter": {
     "outputs_hidden": true
    }
   },
   "outputs": [],
   "source": [
    "aa=VQE()"
   ]
  },
  {
   "cell_type": "code",
   "execution_count": null,
   "metadata": {},
   "outputs": [
    {
     "ename": "NameError",
     "evalue": "name 'aa' is not defined",
     "output_type": "error",
     "traceback": [
      "\u001b[0;31m---------------------------------------------------------------------------\u001b[0m",
      "\u001b[0;31mNameError\u001b[0m                                 Traceback (most recent call last)",
      "\u001b[0;32m<ipython-input-25-54933412a1fe>\u001b[0m in \u001b[0;36m<module>\u001b[0;34m\u001b[0m\n\u001b[0;32m----> 1\u001b[0;31m \u001b[0mprint\u001b[0m\u001b[0;34m(\u001b[0m\u001b[0maa\u001b[0m\u001b[0;34m)\u001b[0m\u001b[0;34m\u001b[0m\u001b[0;34m\u001b[0m\u001b[0m\n\u001b[0m",
      "\u001b[0;31mNameError\u001b[0m: name 'aa' is not defined"
     ]
    }
   ],
   "source": [
    "print(aa)"
   ]
  },
  {
   "cell_type": "code",
   "execution_count": null,
   "metadata": {},
   "outputs": [
    {
     "name": "stdout",
     "output_type": "stream",
     "text": [
      "2.941578490398417\n"
     ]
    }
   ],
   "source": [
    "print(-QAOA_state(psi1,layers,aa)[1]+QAOA_state(psi2,layers,aa)[1])"
   ]
  },
  {
   "cell_type": "markdown",
   "metadata": {},
   "source": [
    "file_VQE_qqbar_para=open('/home/lty/胤/code_for_SCNU_super_computer/PDF_NJL/VQE_qqbar_para/quspinhz_L14m13464g08.txt',mode='w')\n",
    "file_VQE_qqbar_para.write(str(aa))\n",
    "file_VQE_qqbar_para.close()"
   ]
  },
  {
   "cell_type": "code",
   "execution_count": null,
   "metadata": {},
   "outputs": [
    {
     "ename": "NameError",
     "evalue": "name 'aa' is not defined",
     "output_type": "error",
     "traceback": [
      "\u001b[0;31m---------------------------------------------------------------------------\u001b[0m",
      "\u001b[0;31mNameError\u001b[0m                                 Traceback (most recent call last)",
      "\u001b[0;32m<ipython-input-16-fca5b45c394a>\u001b[0m in \u001b[0;36m<module>\u001b[0;34m\u001b[0m\n\u001b[0;32m----> 1\u001b[0;31m \u001b[0mtrial_vac\u001b[0m\u001b[0;34m=\u001b[0m\u001b[0mQAOA_state\u001b[0m\u001b[0;34m(\u001b[0m\u001b[0mpsi1\u001b[0m\u001b[0;34m,\u001b[0m\u001b[0mlayers\u001b[0m\u001b[0;34m,\u001b[0m\u001b[0maa\u001b[0m\u001b[0;34m)\u001b[0m\u001b[0;34m[\u001b[0m\u001b[0;36m0\u001b[0m\u001b[0;34m]\u001b[0m\u001b[0;34m\u001b[0m\u001b[0;34m\u001b[0m\u001b[0m\n\u001b[0m\u001b[1;32m      2\u001b[0m \u001b[0mtrial_state\u001b[0m\u001b[0;34m=\u001b[0m\u001b[0mQAOA_state\u001b[0m\u001b[0;34m(\u001b[0m\u001b[0mpsi2\u001b[0m\u001b[0;34m,\u001b[0m\u001b[0mlayers\u001b[0m\u001b[0;34m,\u001b[0m\u001b[0maa\u001b[0m\u001b[0;34m)\u001b[0m\u001b[0;34m[\u001b[0m\u001b[0;36m0\u001b[0m\u001b[0;34m]\u001b[0m\u001b[0;34m\u001b[0m\u001b[0;34m\u001b[0m\u001b[0m\n",
      "\u001b[0;31mNameError\u001b[0m: name 'aa' is not defined"
     ]
    }
   ],
   "source": [
    "trial_vac=QAOA_state(psi1,layers,aa)[0]\n",
    "trial_state=QAOA_state(psi2,layers,aa)[0]"
   ]
  },
  {
   "cell_type": "code",
   "execution_count": null,
   "metadata": {},
   "outputs": [
    {
     "name": "stdout",
     "output_type": "stream",
     "text": [
      "(9.371456015520172+0j)\n",
      "0.7740846416509108\n"
     ]
    }
   ],
   "source": [
    "err=0\n",
    "for i in range(len(trial_state)):\n",
    "    err=err+np.sqrt(np.conjugate(trial_state[i]-psi[i,0])*(trial_state[i]-psi[i,0]))\n",
    "print(err)\n",
    "print(np.linalg.norm(trial_state-psi[:,0]))"
   ]
  },
  {
   "cell_type": "markdown",
   "metadata": {},
   "source": [
    "compute the PDFs in the quantum computer"
   ]
  },
  {
   "cell_type": "code",
   "execution_count": null,
   "metadata": {},
   "outputs": [],
   "source": [
    "para=eval(open('/home/lty/胤/code_for_SCNU_super_computer/PDF_NJL/VQE_qqbar_para/QCpara-N18ma08g1r04.txt',mode='r').read())"
   ]
  },
  {
   "cell_type": "code",
   "execution_count": null,
   "metadata": {},
   "outputs": [],
   "source": [
    "vac_state,Evac=QAOA_state(psi1,layers,para)\n",
    "qqbar_state,Eqqbar=QAOA_state(psi2,layers,para)"
   ]
  },
  {
   "cell_type": "code",
   "execution_count": null,
   "metadata": {},
   "outputs": [
    {
     "name": "stdout",
     "output_type": "stream",
     "text": [
      "2.384202317665302\n"
     ]
    }
   ],
   "source": [
    "P_mass=Eqqbar-Evac\n",
    "print(P_mass)\n",
    "vol=a"
   ]
  },
  {
   "cell_type": "code",
   "execution_count": null,
   "metadata": {},
   "outputs": [],
   "source": [
    "def string(coff,pauil,pos):\n",
    "    string=[]\n",
    "    string_pos=[]\n",
    "    basis=spin_basis_1d(L=L,pauli=-1)\n",
    "    for i in range(pos):\n",
    "        string.append('z')\n",
    "        string_pos.append(i)\n",
    "    string.append(pauil)\n",
    "    string_pos.append(pos)\n",
    "    string=''.join(string)\n",
    "    string_list=[[string,[[coff]+string_pos]]]\n",
    "    string_dict=dict(H0=string_list)\n",
    "    string_op=quantum_operator(string_dict,basis=basis,check_herm=False)\n",
    "    return string_op"
   ]
  },
  {
   "cell_type": "code",
   "execution_count": null,
   "metadata": {},
   "outputs": [],
   "source": [
    "def quPDFs(psi,index_corr,t1,z1,t2,z2):\n",
    "    psi1=copy.deepcopy(psi)\n",
    "    psi=expm_multiply_parallel(ham.tocsr(),a=-1j*vol*t2,dtype=dtype_cmplx).dot(psi)\n",
    "    psi=string(1,'+',2*z2+int(L/2-1)+(index_corr[1]+1)%2).dot(psi)\n",
    "    psi=expm_multiply_parallel(ham.tocsr(),a=-1j*vol*(t1-t2),dtype=dtype_cmplx).dot(psi)\n",
    "    psi=string(1,'-',2*z1+int(L/2-1)+(index_corr[0]+1)%2).dot(psi)\n",
    "    psi=expm_multiply_parallel(ham.tocsr(),a=1j*vol*t1,dtype=dtype_cmplx).dot(psi)\n",
    "    quPDFs=np.dot(np.conjugate(psi1),psi)\n",
    "    return quPDFs"
   ]
  },
  {
   "cell_type": "code",
   "execution_count": null,
   "metadata": {},
   "outputs": [
    {
     "name": "stderr",
     "output_type": "stream",
     "text": [
      "<ipython-input-19-5d5961de6a42>:13: UserWarning: Test for symmetries not implemented for <class 'quspin.basis.basis_1d.spin.spin_basis_1d'>, to turn off this warning set check_symm=False in hamiltonian\n",
      "  string_op=quantum_operator(string_dict,basis=basis,check_herm=False)\n"
     ]
    }
   ],
   "source": [
    "PDFs11=[]\n",
    "PDFs12=[]\n",
    "PDFs21=[]\n",
    "PDFs22=[]\n",
    "for i in range(int(L/2)):\n",
    "    PDFs11.append(quPDFs(vac,[1,1],i-int((L/2-1)/2),-i+int((L/2-1)/2),0,0))\n",
    "    PDFs12.append(quPDFs(vac,[1,2],i-int((L/2-1)/2),-i+int((L/2-1)/2),0,0))\n",
    "    PDFs21.append(quPDFs(vac,[2,1],i-int((L/2-1)/2),-i+int((L/2-1)/2),0,0))\n",
    "    PDFs22.append(quPDFs(vac,[2,2],i-int((L/2-1)/2),-i+int((L/2-1)/2),0,0))\n",
    "\n",
    "#PDFs=np.array(PDFs11)+np.array(PDFs12)+np.array(PDFs21)+np.array(PDFs22)"
   ]
  },
  {
   "cell_type": "markdown",
   "metadata": {},
   "source": [
    "#compute the position space PDF\n",
    "def quPDFs(psi,index_corr,m,n,t):\n",
    "    psi1=copy.deepcopy(psi)\n",
    "    psi=(string(1,'x',2*n+(index_corr[1]+1)%2)+string(1j,'y',2*n+(index_corr[1]+1)%2)).dot(psi)\n",
    "    psi=expm_multiply_parallel(ham.tocsr(),a=-1j*vol*(-t[0]+int((L/2-1)/2)),dtype=dtype_cmplx).dot(psi)\n",
    "    psi=(string(1,'x',2*m+(index_corr[0]+1)%2)+string(-1j,'y',2*m+(index_corr[0]+1)%2)).dot(psi)\n",
    "    psi=expm_multiply_parallel(ham.tocsr(),a=1j*vol*(-t[0]+int((L/2-1)/2)),dtype=dtype_cmplx).dot(psi)\n",
    "    quPDFs=np.dot(np.conjugate(psi1),psi)\n",
    "    return quPDFs"
   ]
  },
  {
   "cell_type": "markdown",
   "metadata": {},
   "source": [
    "#compute the position space PDF\n",
    "PDFs11=[]\n",
    "PDFs12=[]\n",
    "PDFs21=[]\n",
    "PDFs22=[]\n",
    "for i in range(int(L/2)):\n",
    "    PDFs11.append(quPDFs(qqbar_state,[1,1],i,int((L/2-1)/2),[i]))\n",
    "    PDFs12.append(quPDFs(qqbar_state,[1,2],i,int((L/2-1)/2),[i]))\n",
    "    PDFs21.append(quPDFs(qqbar_state,[2,1],i,int((L/2-1)/2),[i]))\n",
    "    PDFs22.append(quPDFs(qqbar_state,[2,2],i,int((L/2-1)/2),[i]))"
   ]
  },
  {
   "cell_type": "markdown",
   "metadata": {},
   "source": [
    "Fit the PDFs on quantum computer"
   ]
  },
  {
   "cell_type": "code",
   "execution_count": null,
   "metadata": {},
   "outputs": [],
   "source": [
    "PDFs=np.array(PDFs11)+np.array(PDFs12)+np.array(PDFs21)+np.array(PDFs22)\n",
    "#PDFs=np.array(PDFs12)\n",
    "Re_data=np.real(PDFs)\n",
    "Im_data=np.imag(PDFs)\n",
    "ym=np.linspace(-(L/2-1)/2,(L/2-1)/2,int(L/2))\n",
    "coti_ym=np.linspace(-(L/2-1)/2,(L/2-1)/2,1000)\n",
    "fun_Re_inpol=interpolate.interp1d(ym,Re_data,kind=\"quadratic\")\n",
    "fun_Im_inpol=interpolate.interp1d(ym,Im_data,kind=\"quadratic\")\n",
    "num_Re_inpol=fun_Re_inpol(coti_ym)\n",
    "num_Im_inpol=fun_Im_inpol(coti_ym)"
   ]
  },
  {
   "cell_type": "code",
   "execution_count": null,
   "metadata": {},
   "outputs": [
    {
     "data": {
      "image/png": "[encoded data removed]",
      "text/plain": [
       "<Figure size 432x288 with 1 Axes>"
      ]
     },
     "metadata": {
      "needs_background": "light"
     },
     "output_type": "display_data"
    }
   ],
   "source": [
    "plot1 = plt.plot(ym, Re_data, 's',label='original values')\n",
    "plot2 = plt.plot(coti_ym, num_Re_inpol, 'r',label='interpolate values')\n",
    "plt.xlabel('$y^-$')\n",
    "plt.ylabel('$ReD(y^-)$')\n",
    "plt.legend(loc=\"upper right\")\n",
    "plt.title('Re_interpolate')\n",
    "plt.show()"
   ]
  },
  {
   "cell_type": "code",
   "execution_count": null,
   "metadata": {},
   "outputs": [
    {
     "data": {
      "image/png": "[encoded data removed]",
      "text/plain": [
       "<Figure size 432x288 with 1 Axes>"
      ]
     },
     "metadata": {
      "needs_background": "light"
     },
     "output_type": "display_data"
    }
   ],
   "source": [
    "plot1 = plt.plot(ym, Im_data, 's',label='original values')\n",
    "plot2 = plt.plot(coti_ym, num_Im_inpol, 'r',label='interpolate values')\n",
    "plt.xlabel('$y^-$')\n",
    "plt.ylabel('$ImD(y^-)$')\n",
    "plt.legend(loc=\"upper right\")\n",
    "plt.title('Im_interpolate')\n",
    "plt.show()"
   ]
  },
  {
   "cell_type": "code",
   "execution_count": null,
   "metadata": {},
   "outputs": [
    {
     "data": {
      "image/png": "[encoded data removed]",
      "text/plain": [
       "<Figure size 432x288 with 1 Axes>"
      ]
     },
     "metadata": {
      "needs_background": "light"
     },
     "output_type": "display_data"
    }
   ],
   "source": [
    "coti_x=np.linspace(-3,3,1000)\n",
    "inpol_PDFs=np.zeros(len(coti_x))\n",
    "for i in range(len(coti_x)):\n",
    "    inpol_PDFs[i]=np.real((coti_ym[1]-coti_ym[0])*np.dot(np.exp(-1j*P_mass*coti_ym*coti_x[i]),(num_Re_inpol+1j*num_Im_inpol)))\n",
    "\n",
    "plot1 = plt.plot(coti_x, inpol_PDFs,label='Interpolate PDFs')\n",
    "plt.xlabel('$x$')\n",
    "plt.ylabel('$f(x)$')\n",
    "plt.legend(loc=\"upper right\")\n",
    "plt.show()"
   ]
  },
  {
   "cell_type": "code",
   "execution_count": null,
   "metadata": {},
   "outputs": [],
   "source": [
    "np.savetxt(fname='/home/lty/yin_research/NJL_PDF_code/NJL_PDF_result/posN18ma08g1_vac.txt',X=Re_data+1j*Im_data)"
   ]
  },
  {
   "cell_type": "code",
   "execution_count": null,
   "metadata": {},
   "outputs": [
    {
     "data": {
      "text/plain": [
       "2.3820502713276355"
      ]
     },
     "execution_count": 19,
     "metadata": {},
     "output_type": "execute_result"
    }
   ],
   "source": [
    "P_mass"
   ]
  },
  {
   "cell_type": "code",
   "execution_count": null,
   "metadata": {},
   "outputs": [
    {
     "data": {
      "text/plain": [
       "(-2.4500000000000597+0j)"
      ]
     },
     "execution_count": 24,
     "metadata": {},
     "output_type": "execute_result"
    }
   ],
   "source": [
    "np.dot(np.conjugate(psi2),ham.dot(psi2))"
   ]
  },
  {
   "cell_type": "code",
   "execution_count": null,
   "metadata": {},
   "outputs": [
    {
     "data": {
      "text/plain": [
       "True"
      ]
     },
     "execution_count": 14,
     "metadata": {},
     "output_type": "execute_result"
    }
   ],
   "source": [
    "[1,2]==[1,2]"
   ]
  },
  {
   "cell_type": "code",
   "execution_count": null,
   "metadata": {},
   "outputs": [],
   "source": []
  }
 ],
 "metadata": {
  "kernelspec": {
   "display_name": "njl",
   "language": "python",
   "name": "python3"
  },
  "language_info": {
   "codemirror_mode": {
    "name": "ipython",
    "version": 3
   },
   "file_extension": ".py",
   "mimetype": "text/x-python",
   "name": "python",
   "nbconvert_exporter": "python",
   "pygments_lexer": "ipython3",
   "version": "3.8.16"
  },
  "vscode": {
   "interpreter": {
    "hash": "b78861a3b5014c0b5e15b4a44d3f0411bec7238f0280f34a31a1899dd3a3f4b6"
   }
  }
 },
 "nbformat": 4,
 "nbformat_minor": 4
}
