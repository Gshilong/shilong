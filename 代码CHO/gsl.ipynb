{
 "cells": [
  {
   "cell_type": "code",
   "execution_count": 50,
   "metadata": {},
   "outputs": [],
   "source": [
    "from qutip import *\n",
    "import numpy as np\n",
    "import matplotlib.pyplot as plt\n",
    "\n",
    "N = 10  # Fock空间维度\n",
    "b1 = tensor(destroy(N), qeye(N))  \n",
    "b2 = tensor(qeye(N), destroy(N))  \n",
    "omega = 1.0\n",
    "g_0 = 0.1\n",
    "\n",
    "# 定义系统的哈密顿量 H 和观测量 Q\n",
    "H0 = omega * (b1.dag() * b1 + b2.dag() * b2 + 1)\n",
    "H1 = g_0/(omega**2) * ((b1.dag() + b1)**2) * ((b2.dag() + b2)**2)\n",
    "H = H0 + H1  # 哈密顿量\n",
    "Q = b1.dag() * b1 * b2 * b2  # 观测量\n",
    "\n",
    "psi0 = tensor(basis(N, 0), basis(N, 0))  # 两个谐振子的基态\n",
    "\n",
    "# 定义时间范围和时间间隔\n",
    "t_list = np.linspace(0, 500, 100000) # 时间范围\n",
    "tau = 0.1  # 时间间隔\n",
    "\n",
    "# 计算随时间演化的期望值\n",
    "expectation_values = []\n",
    "\n",
    "for t in t_list:\n",
    "    result = mesolve(H, psi0, [t, t + tau], [b1.dag() * b1 * b2 * b2])\n",
    "    A_t_plus_tau = result.states[-1]\n",
    "    expectation_value = expect(Q, A_t_plus_tau)\n",
    "    expectation_values.append(expectation_value)\n",
    "\n",
    "# 绘制结果\n",
    "plt.plot(t_list, expectation_values, label=r'$\\langle A(t+\\tau) | Q | A(t) \\rangle$')\n",
    "plt.xlabel('Time')\n",
    "plt.ylabel('Expectation Value')\n",
    "plt.legend()\n",
    "plt.show()\n"
   ]
  },
  {
   "cell_type": "markdown",
   "metadata": {},
   "source": []
  }
 ],
 "metadata": {
  "kernelspec": {
   "display_name": "qutip-env",
   "language": "python",
   "name": "python3"
  },
  "language_info": {
   "codemirror_mode": {
    "name": "ipython",
    "version": 3
   },
   "file_extension": ".py",
   "mimetype": "text/x-python",
   "name": "python",
   "nbconvert_exporter": "python",
   "pygments_lexer": "ipython3",
   "version": "3.8.16"
  }
 },
 "nbformat": 4,
 "nbformat_minor": 2
}
