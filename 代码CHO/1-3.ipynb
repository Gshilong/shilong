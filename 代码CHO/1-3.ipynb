{
 "cells": [
  {
   "cell_type": "code",
   "execution_count": 49,
   "metadata": {},
   "outputs": [
    {
     "name": "stdout",
     "output_type": "stream",
     "text": [
      "[0.0, 0.1]\n",
      "[0.11111111111111112, 0.21111111111111114]\n",
      "[0.22222222222222224, 0.32222222222222224]\n",
      "[0.33333333333333337, 0.43333333333333335]\n",
      "[0.4444444444444445, 0.5444444444444445]\n",
      "[0.5555555555555556, 0.6555555555555556]\n",
      "[0.6666666666666667, 0.7666666666666667]\n",
      "[0.7777777777777779, 0.8777777777777779]\n",
      "[0.888888888888889, 0.9888888888888889]\n",
      "[1.0, 1.1]\n"
     ]
    },
    {
     "data": {
      "image/png": "[encoded data removed]",
      "text/plain": [
       "<Figure size 640x480 with 1 Axes>"
      ]
     },
     "metadata": {},
     "output_type": "display_data"
    }
   ],
   "source": [
    "from qutip import *\n",
    "import numpy as np\n",
    "import matplotlib.pyplot as plt\n",
    "\n",
    "N = 10  \n",
    "b1 = tensor(destroy(N), qeye(N))  \n",
    "b2 = tensor(qeye(N), destroy(N))  \n",
    "omega = 1.0\n",
    "g_0 = 0.1\n",
    "\n",
    "# 定义系统的哈密顿量 H 和观测量 Q\n",
    "H0 = omega * (b1.dag() * b1 + b2.dag() * b2 + 1)\n",
    "H1 = g_0/(omega**2) * ((b1.dag() + b1)**2) * ((b2.dag() + b2)**2)\n",
    "H = H0 + H1  # 哈密顿量\n",
    "Q1 = b1.dag() * b1.dag() * b2.dag() * b2\n",
    "Q2 = b1.dag() * b1.dag() * b2 * b2.dag() \n",
    "Q3 = b1.dag() * b1 * b2.dag() * b2.dag() \n",
    "Q4 = b1 * b1.dag() * b2.dag() * b2.dag() \n",
    "\n",
    "psi0_1 = tensor(basis(N, 0), basis(N, 1))  \n",
    "\n",
    "# 定义时间范围和时间间隔\n",
    "t_list1 = np.linspace(0, 10, 10) # 时间范围\n",
    "tau1 = 0.1  # 时间间隔\n",
    "\n",
    "# 计算随时间演化的期望值\n",
    "# expectation_values1 = []\n",
    "possibility1 = []\n",
    "\n",
    "for t1 in t_list1:\n",
    "    t1_1 = t1 * tau1\n",
    "    times1 = [t1_1,t1_1+tau1]\n",
    "    print(times1)\n",
    "    result = sesolve(H, psi0_1, times1, [])\n",
    "    Psi_t1_plus_tau1 = result.states[1]\n",
    "    Psi_t1 = result.states[0]\n",
    "    # print(Psi_t1,Psi_t1_plus_tau1)\n",
    "    expectation_value1 = Psi_t1_plus_tau1.dag() * Q1 * Psi_t1\n",
    "    # expectation_values1.append(expectation_value1)\n",
    "    possibility1.append(np.vdot(expectation_value1,expectation_value1))\n",
    "    psi0_1 = Psi_t1_plus_tau1\n",
    "\n",
    "# 绘制结果\n",
    "plt.plot(t_list1*tau1, possibility1, label=r'$|\\langle Psi(t+\\tau) | b_1^{\\dagger}b_1^{\\dagger}b_2^{\\dagger}b_2|Psi(t) \\rangle|^2$')\n",
    "plt.xlabel('Time')\n",
    "plt.ylabel('Expectation Value')\n",
    "plt.legend()\n",
    "plt.show()\n"
   ]
  },
  {
   "cell_type": "code",
   "execution_count": 41,
   "metadata": {},
   "outputs": [],
   "source": [
    "# psi0_2 = tensor(basis(N, 0), basis(N, 1))  \n",
    "\n",
    "# # 定义时间范围和时间间隔\n",
    "# t_list2 = np.linspace(0, 1000, 10**5) # 时间范围\n",
    "# tau2 = 0.1  # 时间间隔\n",
    "\n",
    "# # 计算随时间演化的期望值\n",
    "# expectation_values2 = []\n",
    "# possibility2 = []\n",
    "\n",
    "# for t2 in t_list2:\n",
    "#     times2 = [t2,t2+tau2]\n",
    "#     result = sesolve(H, psi0_2, times2, [])\n",
    "#     Psi_t2_plus_tau2 = result.states[1]\n",
    "#     Psi_t2 = result.states[0]\n",
    "#     expectation_value2 = Psi_t2_plus_tau2.dag() * Q2 * Psi_t2\n",
    "#     possibility2.append(np.vdot(expectation_value2,expectation_value2))\n",
    " \n",
    "\n",
    "# # 绘制结果\n",
    "\n",
    "# plt.plot(t_list2, possibility2, label=r'$|\\langle Ψ(t+\\tau) | b_1^{\\dagger}b_1^{\\dagger}b_2b_2^{\\dagger} | Ψ(t) \\rangle|^2$')\n",
    "# plt.xlabel('Time')\n",
    "# plt.ylabel('Expectation Value')\n",
    "# plt.legend()\n",
    "# plt.show()"
   ]
  },
  {
   "cell_type": "code",
   "execution_count": 42,
   "metadata": {},
   "outputs": [],
   "source": [
    "# psi0_3 = tensor(basis(N, 1), basis(N, 0))  \n",
    "\n",
    "# # 定义时间范围和时间间隔\n",
    "# t_list3 = np.linspace(0, 100, 100000) # 时间范围\n",
    "# tau3 = 0.1  # 时间间隔\n",
    "\n",
    "# # 计算随时间演化的期望值\n",
    "# expectation_values3 = []\n",
    "# possibility3 = []\n",
    "\n",
    "# for t3 in t_list3:\n",
    "#     times3 = [t3,t3+tau3]\n",
    "#     result = sesolve(H, psi0_3, times3, [])\n",
    "#     Psi_t3_plus_tau3 = result.states[1]\n",
    "#     Psi_t3 = result.states[0]\n",
    "#     expectation_value3 = Psi_t3_plus_tau3.dag() * Q3 * Psi_t3\n",
    "#     possibility3.append(np.vdot(expectation_value3,expectation_value3))\n",
    "\n",
    "# # 绘制结果\n",
    "# plt.plot(t_list3, possibility3, label=r'$|\\langle Ψ(t+\\tau) | b_1^{\\dagger}b_1b_2^{\\dagger}b_2^{\\dagger} | Ψ(t) \\rangle|^2$')\n",
    "# plt.xlabel('Time')\n",
    "# plt.ylabel('Expectation Value')\n",
    "# plt.legend()\n",
    "# plt.show()"
   ]
  },
  {
   "cell_type": "code",
   "execution_count": 43,
   "metadata": {},
   "outputs": [],
   "source": [
    "# psi0_4 = tensor(basis(N, 1), basis(N, 0))  \n",
    "\n",
    "# # 定义时间范围和时间间隔\n",
    "# t_list4 = np.linspace(0, 1000, 100000) # 时间范围\n",
    "# tau4 = 0.1  # 时间间隔\n",
    "\n",
    "# # 计算随时间演化的期望值\n",
    "# expectation_values4 = []\n",
    "# possibility4 = []\n",
    "\n",
    "# for t4 in t_list4:\n",
    "#     times4 = [t4,t4+tau4]\n",
    "#     result = sesolve(H, psi0_4, times4, [])\n",
    "#     Psi_t4_plus_tau4 = result.states[1]\n",
    "#     Psi_t4 = result.states[0]\n",
    "#     expectation_value4 = Psi_t4_plus_tau4.dag() * Q4 * Psi_t4\n",
    "#     expectation_values4.append(expectation_value4)\n",
    "#     possibility4.append(np.vdot(expectation_value4,expectation_value4))\n",
    "\n",
    "# # 绘制结果\n",
    "# plt.plot(t_list4, possibility4, label=r'$|\\langle Ψ(t+\\tau) | b_1b_1^{\\dagger}b_2^{\\dagger}b_2^{\\dagger} | Ψ(t) \\rangle|^2$')\n",
    "# plt.xlabel('Time')\n",
    "# plt.ylabel('Expectation Value')\n",
    "# plt.legend()\n",
    "# plt.show()"
   ]
  }
 ],
 "metadata": {
  "kernelspec": {
   "display_name": "qutip_env",
   "language": "python",
   "name": "python3"
  },
  "language_info": {
   "codemirror_mode": {
    "name": "ipython",
    "version": 3
   },
   "file_extension": ".py",
   "mimetype": "text/x-python",
   "name": "python",
   "nbconvert_exporter": "python",
   "pygments_lexer": "ipython3",
   "version": "3.11.7"
  }
 },
 "nbformat": 4,
 "nbformat_minor": 2
}
