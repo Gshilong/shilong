{
 "cells": [
  {
   "cell_type": "code",
   "execution_count": 2,
   "metadata": {},
   "outputs": [],
   "source": [
    "import numpy as np\n",
    "import scipy as sp\n",
    "from math import factorial,tanh\n",
    "import itertools\n",
    "\n",
    "import matplotlib.pyplot as plt\n",
    "import matplotlib.path as mpath\n",
    "import matplotlib.patches as mpatches\n",
    "from matplotlib.collections import PatchCollection\n",
    "\n",
    "import strawberryfields as sf\n",
    "from strawberryfields.ops import*\n",
    "\n",
    "colormap = np.array(plt.rcParams['axes.prop_cycle'].by_key()['color'])"
   ]
  },
  {
   "cell_type": "markdown",
   "metadata": {},
   "source": [
    "Constructing the circuit"
   ]
  },
  {
   "cell_type": "markdown",
   "metadata": {},
   "source": [
    "constants"
   ]
  },
  {
   "cell_type": "code",
   "execution_count": 4,
   "metadata": {},
   "outputs": [],
   "source": [
    "r_squeezing = 0.5\n",
    "cutoff = 7\n",
    "theta1 = 0.5\n",
    "theta2 = 1\n",
    "\n",
    "U = np.array([[np.cos(theta1),-np.sin(theta1),0,0],\n",
    "              [np.sin(theta1),np.cos(theta1),0,0],\n",
    "              [0,0,np.cos(theta2),-np.sin(theta2)],\n",
    "              [0,0,np.sin(theta2),np.cos(theta2)]])"
   ]
  },
  {
   "cell_type": "code",
   "execution_count": 5,
   "metadata": {},
   "outputs": [
    {
     "name": "stderr",
     "output_type": "stream",
     "text": [
      "/Users/gshilong/miniconda3/envs/strawberryfields/lib/python3.12/site-packages/strawberryfields/program.py:732: UserWarning: The circuit consists of 2 disconnected components.\n"
     ]
    }
   ],
   "source": [
    "prog = sf.Program(8)\n",
    "with prog.context as q:\n",
    "    S2gate(r_squeezing) | (q[0],q[4])\n",
    "    S2gate(r_squeezing) | (q[1],q[5])\n",
    "    S2gate(r_squeezing) | (q[2],q[6])\n",
    "    S2gate(r_squeezing) | (q[3],q[7])\n",
    "\n",
    "    Interferometer(U) | (q[4],q[5],q[6],q[7])\n",
    "eng = sf.Engine('fock',backend_options={\"cutoff_dim\":cutoff})\n",
    "state = eng.run(prog).state"
   ]
  },
  {
   "cell_type": "code",
   "execution_count": 7,
   "metadata": {},
   "outputs": [],
   "source": [
    "probs = state.all_fock_probs()"
   ]
  },
  {
   "cell_type": "code",
   "execution_count": 8,
   "metadata": {},
   "outputs": [
    {
     "data": {
      "text/plain": [
       "0.9998583445961168"
      ]
     },
     "execution_count": 8,
     "metadata": {},
     "output_type": "execute_result"
    }
   ],
   "source": [
    "probs = probs.reshape(*[cutoff]*8)\n",
    "np.sum(probs)"
   ]
  },
  {
   "cell_type": "markdown",
   "metadata": {},
   "source": [
    "Analysis"
   ]
  },
  {
   "cell_type": "markdown",
   "metadata": {},
   "source": [
    "Computation of the theoretical probability"
   ]
  },
  {
   "cell_type": "code",
   "execution_count": 9,
   "metadata": {},
   "outputs": [],
   "source": [
    "from thewalrus import perm"
   ]
  },
  {
   "cell_type": "code",
   "execution_count": 10,
   "metadata": {},
   "outputs": [],
   "source": [
    "def get_proba_output(U,input,output):\n",
    "    # The two lines below are the extracted row and column indices.\n",
    "    # For instance, for output=[3,2,1,0], we want list_rows=[0,0,0,1,1,2].\n",
    "    # sum(.,[]) is a Python trick to flatten the list\n",
    "    list_rows = sum([[i] * output[i] for i in range(len(output))],[])\n",
    "    list_columns = sum([[i] * input[i] for i in range(len(input))],[])\n",
    "\n",
    "    U_st = U[:,list_columns][list_rows,:]\n",
    "    perm_squared = np.abs(perm(U_st,method=\"ryser\"))**2\n",
    "    denominator = np.prod([factorial(inp) for inp in input])*np.prod([factorial(out) for out in output])\n",
    "    return perm_squared/denominator\n",
    "\n",
    "def get_proba_input(input):\n",
    "    chi = np.tanh(r_squeezing)\n",
    "    n= np.sum(input)\n",
    "    m = len(input)\n",
    "    return (1 - chi**2)**m * chi**(2*n)\n",
    "\n",
    "def get_proba(U,result):\n",
    "    input,output = result[0:4],result[4:8]\n",
    "    return get_proba_output(U,input,output) * get_proba_input(input)\n"
   ]
  },
  {
   "cell_type": "markdown",
   "metadata": {},
   "source": [
    "Comparison between theory and simulation"
   ]
  },
  {
   "cell_type": "code",
   "execution_count": 13,
   "metadata": {},
   "outputs": [
    {
     "name": "stdout",
     "output_type": "stream",
     "text": [
      "theory: \t 0.3825422953821255\n",
      "simulation: \t 0.3825422953821258\n",
      "theory: \t 0.06291578440230364\n",
      "simulation: \t 0.06291578440230369\n",
      "theory: \t 0.018776990012967093\n",
      "simulation: \t 0.018776990012967107\n"
     ]
    }
   ],
   "source": [
    "print(\"theory: \\t\",get_proba(U,[0,0,0,0,0,0,0,0]))\n",
    "print(\"simulation: \\t\",probs[0,0,0,0,0,0,0,0])\n",
    "print(\"theory: \\t\",get_proba(U,[1,0,0,0,1,0,0,0]))\n",
    "print(\"simulation: \\t\",probs[1,0,0,0,1,0,0,0])\n",
    "print(\"theory: \\t\",get_proba(U,[1,0,0,0,0,1,0,0]))\n",
    "print(\"simulation: \\t\",probs[1,0,0,0,0,1,0,0])"
   ]
  },
  {
   "cell_type": "markdown",
   "metadata": {},
   "source": [
    "Visualization"
   ]
  },
  {
   "cell_type": "markdown",
   "metadata": {},
   "source": [
    "Make the probabilities sum to 1"
   ]
  },
  {
   "cell_type": "code",
   "execution_count": 15,
   "metadata": {},
   "outputs": [
    {
     "data": {
      "text/plain": [
       "1.0"
      ]
     },
     "execution_count": 15,
     "metadata": {},
     "output_type": "execute_result"
    }
   ],
   "source": [
    "probs[0,0,0,0,0,0,0,0] += 1 - np.sum(probs)\n",
    "np.sum(probs)"
   ]
  },
  {
   "cell_type": "markdown",
   "metadata": {},
   "source": [
    "sample"
   ]
  },
  {
   "cell_type": "code",
   "execution_count": 18,
   "metadata": {},
   "outputs": [
    {
     "data": {
      "text/plain": [
       "(0, 0, 0, 0, 0, 0, 0, 0)"
      ]
     },
     "execution_count": 18,
     "metadata": {},
     "output_type": "execute_result"
    }
   ],
   "source": [
    "list_choices = list(itertools.product(*[range(cutoff)]*8))\n",
    "list_choices[0]"
   ]
  },
  {
   "cell_type": "code",
   "execution_count": 19,
   "metadata": {},
   "outputs": [
    {
     "data": {
      "text/plain": [
       "0.38268395078600903"
      ]
     },
     "execution_count": 19,
     "metadata": {},
     "output_type": "execute_result"
    }
   ],
   "source": [
    "list_probs = [probs[list_choices[i]] for i in range(len(list_choices))]\n",
    "list_probs[0]"
   ]
  },
  {
   "cell_type": "code",
   "execution_count": 20,
   "metadata": {},
   "outputs": [
    {
     "data": {
      "text/plain": [
       "(0, 4, 0, 0, 0, 4, 0, 0)"
      ]
     },
     "execution_count": 20,
     "metadata": {},
     "output_type": "execute_result"
    }
   ],
   "source": [
    "choice = list_choices[np.random.choice(range(len(list_choices)),p=list_probs)]\n",
    "choice"
   ]
  },
  {
   "cell_type": "code",
   "execution_count": null,
   "metadata": {},
   "outputs": [],
   "source": []
  }
 ],
 "metadata": {
  "kernelspec": {
   "display_name": "strawberryfields",
   "language": "python",
   "name": "python3"
  },
  "language_info": {
   "codemirror_mode": {
    "name": "ipython",
    "version": 3
   },
   "file_extension": ".py",
   "mimetype": "text/x-python",
   "name": "python",
   "nbconvert_exporter": "python",
   "pygments_lexer": "ipython3",
   "version": "3.12.3"
  }
 },
 "nbformat": 4,
 "nbformat_minor": 2
}
