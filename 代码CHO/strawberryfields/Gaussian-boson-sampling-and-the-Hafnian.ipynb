{
 "cells": [
  {
   "cell_type": "markdown",
   "metadata": {},
   "source": [
    "Circuit construction and simulation"
   ]
  },
  {
   "cell_type": "code",
   "execution_count": 1,
   "metadata": {},
   "outputs": [],
   "source": [
    "import numpy as np\n",
    "np.random.seed(42)\n",
    "import strawberryfields as sf\n",
    "from strawberryfields.ops import*"
   ]
  },
  {
   "cell_type": "code",
   "execution_count": 2,
   "metadata": {},
   "outputs": [],
   "source": [
    "# define the linear interferometer\n",
    "U = np.array([\n",
    " [ 0.219546940711-0.256534554457j, 0.611076853957+0.524178937791j,\n",
    "    -0.102700187435+0.474478834685j,-0.027250232925+0.03729094623j],\n",
    " [ 0.451281863394+0.602582912475j, 0.456952590016+0.01230749109j,\n",
    "    0.131625867435-0.450417744715j, 0.035283194078-0.053244267184j],\n",
    " [ 0.038710094355+0.492715562066j,-0.019212744068-0.321842852355j,\n",
    "    -0.240776471286+0.524432833034j,-0.458388143039+0.329633367819j],\n",
    " [-0.156619083736+0.224568570065j, 0.109992223305-0.163750223027j,\n",
    "    -0.421179844245+0.183644837982j, 0.818769184612+0.068015658737j]\n",
    "])"
   ]
  },
  {
   "cell_type": "code",
   "execution_count": 3,
   "metadata": {},
   "outputs": [],
   "source": [
    "gbs = sf.Program(4)\n",
    "with gbs.context as q:\n",
    "    S = Sgate(1)\n",
    "    S | q[0]\n",
    "    S | q[1]\n",
    "    S | q[2]\n",
    "    S | q[3]\n",
    "\n",
    "    Interferometer(U) | q"
   ]
  },
  {
   "cell_type": "code",
   "execution_count": 4,
   "metadata": {},
   "outputs": [],
   "source": [
    "eng = sf.Engine(backend=\"gaussian\")\n",
    "results = eng.run(gbs)"
   ]
  },
  {
   "cell_type": "code",
   "execution_count": 5,
   "metadata": {},
   "outputs": [
    {
     "name": "stdout",
     "output_type": "stream",
     "text": [
      "|0000>:0.1763784476141346\n",
      "|1100>:0.06855956371224484\n",
      "|0101>:0.002056097258972288\n",
      "|1111>:0.008342946399881921\n",
      "|2000>:0.010312945253440247\n"
     ]
    },
    {
     "name": "stderr",
     "output_type": "stream",
     "text": [
      "/Users/gshilong/miniconda3/envs/strawberryfields/lib/python3.12/site-packages/numpy/linalg/linalg.py:2180: RuntimeWarning: divide by zero encountered in det\n",
      "/Users/gshilong/miniconda3/envs/strawberryfields/lib/python3.12/site-packages/numpy/linalg/linalg.py:2180: RuntimeWarning: invalid value encountered in det\n"
     ]
    }
   ],
   "source": [
    "measure_states = [[0,0,0,0],[1,1,0,0],[0,1,0,1],[1,1,1,1],[2,0,0,0]]\n",
    "for i in measure_states:\n",
    "    prob = results.state.fock_prob(i)\n",
    "    print(\"|{}>:{}\".format(\"\".join(str(j) for j in i), prob))"
   ]
  },
  {
   "cell_type": "markdown",
   "metadata": {},
   "source": [
    "Equally squeezed inputs"
   ]
  },
  {
   "cell_type": "markdown",
   "metadata": {},
   "source": [
    "Calculating the hafnian"
   ]
  },
  {
   "cell_type": "code",
   "execution_count": 6,
   "metadata": {},
   "outputs": [],
   "source": [
    "from thewalrus import hafnian as haf\n"
   ]
  },
  {
   "cell_type": "code",
   "execution_count": 7,
   "metadata": {},
   "outputs": [],
   "source": [
    "B = (np.dot(U, U.T)* np.tanh(1))"
   ]
  },
  {
   "cell_type": "code",
   "execution_count": 8,
   "metadata": {},
   "outputs": [
    {
     "name": "stdout",
     "output_type": "stream",
     "text": [
      "[[-0.10219728+0.32633851j  0.55418347+0.28563583j]\n",
      " [ 0.55418347+0.28563583j -0.10505237+0.32960794j]]\n"
     ]
    }
   ],
   "source": [
    "print(B[:,[0,1]][[0,1]])"
   ]
  },
  {
   "cell_type": "markdown",
   "metadata": {},
   "source": [
    "Comparing to Strawberry Fields"
   ]
  },
  {
   "cell_type": "markdown",
   "metadata": {},
   "source": [
    "Measuring \n",
    "|\n",
    "0\n",
    ",\n",
    "0\n",
    ",\n",
    "0\n",
    ",\n",
    "0\n",
    "⟩\n",
    " at the output"
   ]
  },
  {
   "cell_type": "code",
   "execution_count": 10,
   "metadata": {},
   "outputs": [
    {
     "name": "stdout",
     "output_type": "stream",
     "text": [
      "0.1763784476141347\n",
      "0.1763784476141346\n"
     ]
    }
   ],
   "source": [
    "np.seterr(divide='ignore',invalid='ignore')\n",
    "print(1/np.cosh(1)**4)\n",
    "print(results.state.fock_prob([0,0,0,0]))"
   ]
  },
  {
   "cell_type": "markdown",
   "metadata": {},
   "source": [
    "Measuring \n",
    "|\n",
    "1\n",
    ",\n",
    "1\n",
    ",\n",
    "0\n",
    ",\n",
    "0\n",
    "⟩\n",
    " at the output"
   ]
  },
  {
   "cell_type": "code",
   "execution_count": 12,
   "metadata": {},
   "outputs": [
    {
     "name": "stdout",
     "output_type": "stream",
     "text": [
      "0.06855956371214537\n",
      "0.06855956371224484\n"
     ]
    }
   ],
   "source": [
    "B = (np.dot(U,U.T)*np.tanh(1))[:,[0,1]][[0,1]]\n",
    "print(np.abs(haf(B))**2 / np.cosh(1)**4)\n",
    "print(results.state.fock_prob([1,1,0,0]))"
   ]
  },
  {
   "cell_type": "markdown",
   "metadata": {},
   "source": [
    "Measuring \n",
    "|\n",
    "0\n",
    ",\n",
    "1\n",
    ",\n",
    "0\n",
    ",\n",
    "1\n",
    "⟩\n",
    " at the output"
   ]
  },
  {
   "cell_type": "code",
   "execution_count": 13,
   "metadata": {},
   "outputs": [
    {
     "name": "stdout",
     "output_type": "stream",
     "text": [
      "0.0020560972589728135\n",
      "0.002056097258972288\n"
     ]
    }
   ],
   "source": [
    "B = (np.dot(U,U.T)*np.tanh(1))[:,[1,3]][[1,3]]\n",
    "print(np.abs(haf(B))**2 / np.cosh(1)**4)\n",
    "print(results.state.fock_prob([0,1,0,1]))"
   ]
  },
  {
   "cell_type": "markdown",
   "metadata": {},
   "source": [
    "Measuring \n",
    "|\n",
    "1\n",
    ",\n",
    "1\n",
    ",\n",
    "1\n",
    ",\n",
    "1\n",
    "⟩\n",
    " at the output"
   ]
  },
  {
   "cell_type": "code",
   "execution_count": 14,
   "metadata": {},
   "outputs": [
    {
     "name": "stdout",
     "output_type": "stream",
     "text": [
      "0.008342946399869367\n",
      "0.008342946399881921\n"
     ]
    }
   ],
   "source": [
    "B = (np.dot(U,U.T)*np.tanh(1))\n",
    "print(np.abs(haf(B))**2 / np.cosh(1)**4)\n",
    "print(results.state.fock_prob([1,1,1,1]))"
   ]
  },
  {
   "cell_type": "markdown",
   "metadata": {},
   "source": [
    "Measuring \n",
    "|\n",
    "2\n",
    ",\n",
    "0\n",
    ",\n",
    "0\n",
    ",\n",
    "0\n",
    "⟩\n",
    " at the output"
   ]
  },
  {
   "cell_type": "code",
   "execution_count": 15,
   "metadata": {},
   "outputs": [
    {
     "name": "stdout",
     "output_type": "stream",
     "text": [
      "0.010312945253479155\n",
      "0.010312945253440247\n"
     ]
    }
   ],
   "source": [
    "B = (np.dot(U,U.T)*np.tanh(1))[:,[0,0]][[0,0]]\n",
    "print(np.abs(haf(B))**2 / (2*np.cosh(1)**4))\n",
    "print(results.state.fock_prob([2,0,0,0]))"
   ]
  },
  {
   "cell_type": "code",
   "execution_count": null,
   "metadata": {},
   "outputs": [],
   "source": []
  }
 ],
 "metadata": {
  "kernelspec": {
   "display_name": "strawberryfields",
   "language": "python",
   "name": "python3"
  },
  "language_info": {
   "codemirror_mode": {
    "name": "ipython",
    "version": 3
   },
   "file_extension": ".py",
   "mimetype": "text/x-python",
   "name": "python",
   "nbconvert_exporter": "python",
   "pygments_lexer": "ipython3",
   "version": "3.12.3"
  }
 },
 "nbformat": 4,
 "nbformat_minor": 2
}
