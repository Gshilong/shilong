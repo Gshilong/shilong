{
 "cells": [
  {
   "cell_type": "code",
   "execution_count": 2,
   "metadata": {},
   "outputs": [],
   "source": [
    "import numpy as np\n",
    "import strawberryfields as sf\n",
    "from strawberryfields.ops import *\n",
    "\n",
    "prog = sf.Program(3)\n",
    "\n",
    "with prog.context as q:\n",
    "    Fock(1) | q[0]\n",
    "    Coherent(0.5, 2) | q[1]\n",
    "\n",
    "with prog.context as q:\n",
    "    S = Squeezed(1)\n",
    "    S | q[0]\n",
    "    S | q[1]"
   ]
  },
  {
   "cell_type": "code",
   "execution_count": 3,
   "metadata": {},
   "outputs": [],
   "source": [
    "with prog.context as q:\n",
    "    # Apply the Displacement gate to qumode 0\n",
    "    alpha = 2.0 + 1.0j\n",
    "    Dgate(np.abs(alpha), np.angle(alpha)) |q[0]\n",
    "    \n",
    "    # Apply the Rotation gate\n",
    "    phi = 3.14/2\n",
    "    Rgate(phi) | q[0]\n",
    "    \n",
    "    # Apply the Squeezing gate\n",
    "    Sgate(2.0, 0.17) | q[0]\n",
    "\n",
    "    #  Apply the Beamsplitter gate to qumodes 0 & 1\n",
    "    BSgate(3.14/10, 0.223) | (q[0],q[1])\n",
    "\n",
    "    # Apply the Cubic Phase gate (VGate) to qumode 0\n",
    "    gamma = 0.1\n",
    "    Vgate(gamma) | q[0]\n",
    "\n",
    "    V = Vgate(gamma)\n",
    "    V.H | q[0]"
   ]
  },
  {
   "cell_type": "code",
   "execution_count": 4,
   "metadata": {},
   "outputs": [],
   "source": [
    "with prog.context as q:\n",
    "    phi = 0.35*3.14\n",
    "    MeasureHomodyne(phi) | q[0]\n",
    "\n",
    "    MeasureX | q[0]\n",
    "    MeasureP | q[1]\n",
    "\n",
    "    MeasureHeterodyne() |q[0]\n",
    "    MeasureHD | q[1]\n",
    "\n",
    "    MeasureFock() | q[0]\n",
    "    MeasureFock() | (q[1],q[2])"
   ]
  },
  {
   "cell_type": "code",
   "execution_count": null,
   "metadata": {},
   "outputs": [],
   "source": []
  }
 ],
 "metadata": {
  "kernelspec": {
   "display_name": "strawberryfields",
   "language": "python",
   "name": "python3"
  },
  "language_info": {
   "codemirror_mode": {
    "name": "ipython",
    "version": 3
   },
   "file_extension": ".py",
   "mimetype": "text/x-python",
   "name": "python",
   "nbconvert_exporter": "python",
   "pygments_lexer": "ipython3",
   "version": "3.12.3"
  }
 },
 "nbformat": 4,
 "nbformat_minor": 2
}
